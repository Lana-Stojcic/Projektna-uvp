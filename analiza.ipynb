{
 "cells": [
  {
   "cell_type": "code",
   "execution_count": 10,
   "metadata": {},
   "outputs": [],
   "source": [
    "import pandas as pd\n",
    "\n",
    "pd.set_option('display.max_rows', 10)\n",
    "\n",
    "%matplotlib inline\n",
    "\n",
    "DELA = pd.read_csv(\"studentska_dela.csv\", index_col=\"delo\")"
   ]
  },
  {
   "cell_type": "markdown",
   "metadata": {},
   "source": [
    "Najbolj plačana dela"
   ]
  },
  {
   "cell_type": "code",
   "execution_count": 71,
   "metadata": {},
   "outputs": [
    {
     "data": {
      "text/html": [
       "<div>\n",
       "<style scoped>\n",
       "    .dataframe tbody tr th:only-of-type {\n",
       "        vertical-align: middle;\n",
       "    }\n",
       "\n",
       "    .dataframe tbody tr th {\n",
       "        vertical-align: top;\n",
       "    }\n",
       "\n",
       "    .dataframe thead th {\n",
       "        text-align: right;\n",
       "    }\n",
       "</style>\n",
       "<table border=\"1\" class=\"dataframe\">\n",
       "  <thead>\n",
       "    <tr style=\"text-align: right;\">\n",
       "      <th></th>\n",
       "      <th>plača neto</th>\n",
       "    </tr>\n",
       "    <tr>\n",
       "      <th>delo</th>\n",
       "      <th></th>\n",
       "    </tr>\n",
       "  </thead>\n",
       "  <tbody>\n",
       "    <tr>\n",
       "      <th>SNEMANJE</th>\n",
       "      <td>PO DOGOVORU</td>\n",
       "    </tr>\n",
       "    <tr>\n",
       "      <th>INFORMATIKA</th>\n",
       "      <td>PO DOGOVORU</td>\n",
       "    </tr>\n",
       "    <tr>\n",
       "      <th>POUČEVANJE</th>\n",
       "      <td>PO DOGOVORU</td>\n",
       "    </tr>\n",
       "    <tr>\n",
       "      <th>POUČEVANJE</th>\n",
       "      <td>PO DOGOVORU</td>\n",
       "    </tr>\n",
       "    <tr>\n",
       "      <th>POUČEVANJE</th>\n",
       "      <td>PO DOGOVORU</td>\n",
       "    </tr>\n",
       "    <tr>\n",
       "      <th>...</th>\n",
       "      <td>...</td>\n",
       "    </tr>\n",
       "    <tr>\n",
       "      <th>STREŽBA</th>\n",
       "      <td>PO DOGOVORU</td>\n",
       "    </tr>\n",
       "    <tr>\n",
       "      <th>STREŽBA HRANE IN PIJAČE</th>\n",
       "      <td>PO DOGOVORU</td>\n",
       "    </tr>\n",
       "    <tr>\n",
       "      <th>VARSTVO</th>\n",
       "      <td>PO DOGOVORU</td>\n",
       "    </tr>\n",
       "    <tr>\n",
       "      <th>STREŽBA</th>\n",
       "      <td>PO DOGOVORU</td>\n",
       "    </tr>\n",
       "    <tr>\n",
       "      <th>DELO S STRANKAMI</th>\n",
       "      <td>PO DOGOVORU</td>\n",
       "    </tr>\n",
       "  </tbody>\n",
       "</table>\n",
       "<p>2000 rows × 1 columns</p>\n",
       "</div>"
      ],
      "text/plain": [
       "                          plača neto\n",
       "delo                                \n",
       "SNEMANJE                 PO DOGOVORU\n",
       "INFORMATIKA              PO DOGOVORU\n",
       "POUČEVANJE               PO DOGOVORU\n",
       "POUČEVANJE               PO DOGOVORU\n",
       "POUČEVANJE               PO DOGOVORU\n",
       "...                              ...\n",
       "STREŽBA                  PO DOGOVORU\n",
       "STREŽBA HRANE IN PIJAČE  PO DOGOVORU\n",
       "VARSTVO                  PO DOGOVORU\n",
       "STREŽBA                  PO DOGOVORU\n",
       "DELO S STRANKAMI         PO DOGOVORU\n",
       "\n",
       "[2000 rows x 1 columns]"
      ]
     },
     "execution_count": 71,
     "metadata": {},
     "output_type": "execute_result"
    }
   ],
   "source": [
    "DELA = DELA.sort_values('plača neto', ascending= False)\n",
    "DELA"
   ]
  },
  {
   "cell_type": "markdown",
   "metadata": {},
   "source": [
    "Najbolj plačana dela v Ljubljani"
   ]
  }
 ],
 "metadata": {
  "kernelspec": {
   "display_name": "Python 3",
   "language": "python",
   "name": "python3"
  },
  "language_info": {
   "codemirror_mode": {
    "name": "ipython",
    "version": 3
   },
   "file_extension": ".py",
   "mimetype": "text/x-python",
   "name": "python",
   "nbconvert_exporter": "python",
   "pygments_lexer": "ipython3",
   "version": "3.11.9"
  },
  "polyglot_notebook": {
   "kernelInfo": {
    "defaultKernelName": "csharp",
    "items": [
     {
      "aliases": [],
      "name": "csharp"
     }
    ]
   }
  }
 },
 "nbformat": 4,
 "nbformat_minor": 2
}
