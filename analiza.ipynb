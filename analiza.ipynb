{
 "cells": [
  {
   "cell_type": "markdown",
   "metadata": {
    "notebookRunGroups": {
     "groupValue": "1"
    }
   },
   "source": [
    "# Podatki o študentskih delih"
   ]
  },
  {
   "cell_type": "code",
   "execution_count": 1,
   "metadata": {},
   "outputs": [],
   "source": [
    "import pandas as pd\n",
    "import matplotlib.pyplot as plt\n",
    "\n",
    "pd.set_option('display.max_rows', 10)\n",
    "\n",
    "%matplotlib inline\n",
    "\n",
    "DELA = pd.read_csv(\"studentska_dela.csv\", index_col=\"delo\")"
   ]
  },
  {
   "cell_type": "markdown",
   "metadata": {},
   "source": [
    "Tabela, ki prikazuje 2000 oglasov"
   ]
  },
  {
   "cell_type": "code",
   "execution_count": 2,
   "metadata": {},
   "outputs": [
    {
     "data": {
      "text/html": [
       "<div>\n",
       "<style scoped>\n",
       "    .dataframe tbody tr th:only-of-type {\n",
       "        vertical-align: middle;\n",
       "    }\n",
       "\n",
       "    .dataframe tbody tr th {\n",
       "        vertical-align: top;\n",
       "    }\n",
       "\n",
       "    .dataframe thead th {\n",
       "        text-align: right;\n",
       "    }\n",
       "</style>\n",
       "<table border=\"1\" class=\"dataframe\">\n",
       "  <thead>\n",
       "    <tr style=\"text-align: right;\">\n",
       "      <th></th>\n",
       "      <th>plača neto</th>\n",
       "      <th>kraj</th>\n",
       "      <th>delovnik</th>\n",
       "      <th>trajanje</th>\n",
       "    </tr>\n",
       "    <tr>\n",
       "      <th>delo</th>\n",
       "      <th></th>\n",
       "      <th></th>\n",
       "      <th></th>\n",
       "      <th></th>\n",
       "    </tr>\n",
       "  </thead>\n",
       "  <tbody>\n",
       "    <tr>\n",
       "      <th>DEKLARIRANJE</th>\n",
       "      <td>7.06 €/h neto</td>\n",
       "      <td>ŠENTJUR</td>\n",
       "      <td>DOPOLDAN</td>\n",
       "      <td>DLJE ČASA (ZAČ. IN OBČ. DELO)</td>\n",
       "    </tr>\n",
       "    <tr>\n",
       "      <th>INŠTALACIJE</th>\n",
       "      <td>8.00 €/h neto</td>\n",
       "      <td>ŠTAJERSKA REGIJA</td>\n",
       "      <td>DOPOLDAN</td>\n",
       "      <td>PO DOGOVORU</td>\n",
       "    </tr>\n",
       "    <tr>\n",
       "      <th>MARKETING</th>\n",
       "      <td>9.00 €/h neto</td>\n",
       "      <td>LJUBLJANA</td>\n",
       "      <td>DOPOLDAN</td>\n",
       "      <td>DLJE ČASA (ZAČ. IN OBČ. DELO)</td>\n",
       "    </tr>\n",
       "    <tr>\n",
       "      <th>ADMINISTRATIVNA DELA</th>\n",
       "      <td>7.31 €/h neto</td>\n",
       "      <td>LJUBLJANA</td>\n",
       "      <td>DOPOLDAN</td>\n",
       "      <td>DLJE ČASA (ZAČ. IN OBČ. DELO)</td>\n",
       "    </tr>\n",
       "    <tr>\n",
       "      <th>KONTROLA KAKOVOSTI</th>\n",
       "      <td>6.45 €/h neto</td>\n",
       "      <td>ŠKOFJA LOKA</td>\n",
       "      <td>DOPOLDAN</td>\n",
       "      <td>DLJE ČASA (ZAČ. IN OBČ. DELO)</td>\n",
       "    </tr>\n",
       "    <tr>\n",
       "      <th>...</th>\n",
       "      <td>...</td>\n",
       "      <td>...</td>\n",
       "      <td>...</td>\n",
       "      <td>...</td>\n",
       "    </tr>\n",
       "    <tr>\n",
       "      <th>KOMERCIALNA DELA</th>\n",
       "      <td>9.00 €/h neto</td>\n",
       "      <td>TRZIN</td>\n",
       "      <td>DOPOLDAN</td>\n",
       "      <td>DLJE ČASA (ZAČ. IN OBČ. DELO)</td>\n",
       "    </tr>\n",
       "    <tr>\n",
       "      <th>ZDRAVSTVENA NEGA</th>\n",
       "      <td>8.00 €/h neto</td>\n",
       "      <td>LJUBLJANA</td>\n",
       "      <td>PO DOGOVORU</td>\n",
       "      <td>DLJE ČASA (ZAČ. IN OBČ. DELO)</td>\n",
       "    </tr>\n",
       "    <tr>\n",
       "      <th>PRODAJA</th>\n",
       "      <td>7.00 €/h neto</td>\n",
       "      <td>LJUBLJANA RUDNIK IN /ALI VIČ</td>\n",
       "      <td>IZMENSKO</td>\n",
       "      <td>DLJE ČASA (ZAČ. IN OBČ. DELO)</td>\n",
       "    </tr>\n",
       "    <tr>\n",
       "      <th>KOZMETIČNE STORITVE</th>\n",
       "      <td>6.20 €/h neto</td>\n",
       "      <td>VODICE</td>\n",
       "      <td>IZMENSKO</td>\n",
       "      <td>DLJE ČASA (ZAČ. IN OBČ. DELO)</td>\n",
       "    </tr>\n",
       "    <tr>\n",
       "      <th>STREŽBA HRANE IN PIJAČE</th>\n",
       "      <td>7.40 €/h neto</td>\n",
       "      <td>LJUBLJANA</td>\n",
       "      <td>PO DOGOVORU</td>\n",
       "      <td>DLJE ČASA (ZAČ. IN OBČ. DELO)</td>\n",
       "    </tr>\n",
       "  </tbody>\n",
       "</table>\n",
       "<p>2000 rows × 4 columns</p>\n",
       "</div>"
      ],
      "text/plain": [
       "                            plača neto                          kraj  \\\n",
       "delo                                                                   \n",
       "DEKLARIRANJE             7.06 €/h neto                       ŠENTJUR   \n",
       "INŠTALACIJE              8.00 €/h neto              ŠTAJERSKA REGIJA   \n",
       "MARKETING                9.00 €/h neto                     LJUBLJANA   \n",
       "ADMINISTRATIVNA DELA     7.31 €/h neto                     LJUBLJANA   \n",
       "KONTROLA KAKOVOSTI       6.45 €/h neto                   ŠKOFJA LOKA   \n",
       "...                                ...                           ...   \n",
       "KOMERCIALNA DELA         9.00 €/h neto                         TRZIN   \n",
       "ZDRAVSTVENA NEGA         8.00 €/h neto                     LJUBLJANA   \n",
       "PRODAJA                  7.00 €/h neto  LJUBLJANA RUDNIK IN /ALI VIČ   \n",
       "KOZMETIČNE STORITVE      6.20 €/h neto                        VODICE   \n",
       "STREŽBA HRANE IN PIJAČE  7.40 €/h neto                     LJUBLJANA   \n",
       "\n",
       "                            delovnik                       trajanje  \n",
       "delo                                                                 \n",
       "DEKLARIRANJE                DOPOLDAN  DLJE ČASA (ZAČ. IN OBČ. DELO)  \n",
       "INŠTALACIJE                 DOPOLDAN                    PO DOGOVORU  \n",
       "MARKETING                   DOPOLDAN  DLJE ČASA (ZAČ. IN OBČ. DELO)  \n",
       "ADMINISTRATIVNA DELA        DOPOLDAN  DLJE ČASA (ZAČ. IN OBČ. DELO)  \n",
       "KONTROLA KAKOVOSTI          DOPOLDAN  DLJE ČASA (ZAČ. IN OBČ. DELO)  \n",
       "...                              ...                            ...  \n",
       "KOMERCIALNA DELA            DOPOLDAN  DLJE ČASA (ZAČ. IN OBČ. DELO)  \n",
       "ZDRAVSTVENA NEGA         PO DOGOVORU  DLJE ČASA (ZAČ. IN OBČ. DELO)  \n",
       "PRODAJA                     IZMENSKO  DLJE ČASA (ZAČ. IN OBČ. DELO)  \n",
       "KOZMETIČNE STORITVE         IZMENSKO  DLJE ČASA (ZAČ. IN OBČ. DELO)  \n",
       "STREŽBA HRANE IN PIJAČE  PO DOGOVORU  DLJE ČASA (ZAČ. IN OBČ. DELO)  \n",
       "\n",
       "[2000 rows x 4 columns]"
      ]
     },
     "execution_count": 2,
     "metadata": {},
     "output_type": "execute_result"
    }
   ],
   "source": [
    "DELA"
   ]
  },
  {
   "cell_type": "markdown",
   "metadata": {
    "notebookRunGroups": {
     "groupValue": "2"
    }
   },
   "source": [
    "Podtabela, kjer so dela razporejena od najbolj do najmanj plačanih. \n",
    "Dela, kjer plača ni določena so izpuščena."
   ]
  },
  {
   "cell_type": "code",
   "execution_count": 3,
   "metadata": {},
   "outputs": [
    {
     "data": {
      "text/html": [
       "<div>\n",
       "<style scoped>\n",
       "    .dataframe tbody tr th:only-of-type {\n",
       "        vertical-align: middle;\n",
       "    }\n",
       "\n",
       "    .dataframe tbody tr th {\n",
       "        vertical-align: top;\n",
       "    }\n",
       "\n",
       "    .dataframe thead th {\n",
       "        text-align: right;\n",
       "    }\n",
       "</style>\n",
       "<table border=\"1\" class=\"dataframe\">\n",
       "  <thead>\n",
       "    <tr style=\"text-align: right;\">\n",
       "      <th></th>\n",
       "      <th>plača neto</th>\n",
       "      <th>kraj</th>\n",
       "      <th>delovnik</th>\n",
       "      <th>trajanje</th>\n",
       "    </tr>\n",
       "    <tr>\n",
       "      <th>delo</th>\n",
       "      <th></th>\n",
       "      <th></th>\n",
       "      <th></th>\n",
       "      <th></th>\n",
       "    </tr>\n",
       "  </thead>\n",
       "  <tbody>\n",
       "    <tr>\n",
       "      <th>TRENER/KA</th>\n",
       "      <td>20.0 €/h neto</td>\n",
       "      <td>LJUBLJANA</td>\n",
       "      <td>POPOLDAN</td>\n",
       "      <td>DLJE ČASA (ZAČ. IN OBČ. DELO)</td>\n",
       "    </tr>\n",
       "    <tr>\n",
       "      <th>POUČEVANJE</th>\n",
       "      <td>20.0 €/h neto</td>\n",
       "      <td>KAMNIK</td>\n",
       "      <td>POPOLDAN</td>\n",
       "      <td>DLJE ČASA (ZAČ. IN OBČ. DELO)</td>\n",
       "    </tr>\n",
       "    <tr>\n",
       "      <th>VADITELJ/ICA</th>\n",
       "      <td>20.0 €/h neto</td>\n",
       "      <td>VELENJE</td>\n",
       "      <td>DOPOLDAN</td>\n",
       "      <td>DLJE ČASA (ZAČ. IN OBČ. DELO)</td>\n",
       "    </tr>\n",
       "    <tr>\n",
       "      <th>TRENER/KA</th>\n",
       "      <td>20.0 €/h neto</td>\n",
       "      <td>LJUBLJANA</td>\n",
       "      <td>POPOLDAN</td>\n",
       "      <td>DLJE ČASA (ZAČ. IN OBČ. DELO)</td>\n",
       "    </tr>\n",
       "    <tr>\n",
       "      <th>POUČEVANJE</th>\n",
       "      <td>16.52 €/h neto</td>\n",
       "      <td>BLED IN RADOVLJICA</td>\n",
       "      <td>POPOLDAN</td>\n",
       "      <td>DLJE ČASA (ZAČ. IN OBČ. DELO)</td>\n",
       "    </tr>\n",
       "    <tr>\n",
       "      <th>...</th>\n",
       "      <td>...</td>\n",
       "      <td>...</td>\n",
       "      <td>...</td>\n",
       "      <td>...</td>\n",
       "    </tr>\n",
       "    <tr>\n",
       "      <th>PRODAJA</th>\n",
       "      <td>6.2 €/h neto</td>\n",
       "      <td>MURSKA SOBOTA</td>\n",
       "      <td>IZMENSKO</td>\n",
       "      <td>DLJE ČASA (ZAČ. IN OBČ. DELO)</td>\n",
       "    </tr>\n",
       "    <tr>\n",
       "      <th>PRODAJA</th>\n",
       "      <td>6.2 €/h neto</td>\n",
       "      <td>CELJE</td>\n",
       "      <td>PO DOGOVORU</td>\n",
       "      <td>DLJE ČASA (ZAČ. IN OBČ. DELO)</td>\n",
       "    </tr>\n",
       "    <tr>\n",
       "      <th>KLICNI CENTER</th>\n",
       "      <td>6.2 €/h neto</td>\n",
       "      <td>LJUBLJANA - NOVE JARŠE</td>\n",
       "      <td>DOPOLDAN</td>\n",
       "      <td>POČITNIŠKO DELO</td>\n",
       "    </tr>\n",
       "    <tr>\n",
       "      <th>PROJEKTNO DELO</th>\n",
       "      <td>6.2 €/h neto</td>\n",
       "      <td>KAMNIK</td>\n",
       "      <td>PO DOGOVORU</td>\n",
       "      <td>DLJE ČASA (ZAČ. IN OBČ. DELO)</td>\n",
       "    </tr>\n",
       "    <tr>\n",
       "      <th>DELO V LABORATORIJU</th>\n",
       "      <td>6.2 €/h neto</td>\n",
       "      <td>LJUBLJANA</td>\n",
       "      <td>DOPOLDAN</td>\n",
       "      <td>DLJE ČASA (ZAČ. IN OBČ. DELO)</td>\n",
       "    </tr>\n",
       "  </tbody>\n",
       "</table>\n",
       "<p>1908 rows × 4 columns</p>\n",
       "</div>"
      ],
      "text/plain": [
       "                         plača neto                    kraj     delovnik  \\\n",
       "delo                                                                       \n",
       "TRENER/KA             20.0 €/h neto               LJUBLJANA     POPOLDAN   \n",
       "POUČEVANJE            20.0 €/h neto                  KAMNIK     POPOLDAN   \n",
       "VADITELJ/ICA          20.0 €/h neto                 VELENJE     DOPOLDAN   \n",
       "TRENER/KA             20.0 €/h neto               LJUBLJANA     POPOLDAN   \n",
       "POUČEVANJE           16.52 €/h neto      BLED IN RADOVLJICA     POPOLDAN   \n",
       "...                             ...                     ...          ...   \n",
       "PRODAJA                6.2 €/h neto           MURSKA SOBOTA     IZMENSKO   \n",
       "PRODAJA                6.2 €/h neto                   CELJE  PO DOGOVORU   \n",
       "KLICNI CENTER          6.2 €/h neto  LJUBLJANA - NOVE JARŠE     DOPOLDAN   \n",
       "PROJEKTNO DELO         6.2 €/h neto                  KAMNIK  PO DOGOVORU   \n",
       "DELO V LABORATORIJU    6.2 €/h neto               LJUBLJANA     DOPOLDAN   \n",
       "\n",
       "                                          trajanje  \n",
       "delo                                                \n",
       "TRENER/KA            DLJE ČASA (ZAČ. IN OBČ. DELO)  \n",
       "POUČEVANJE           DLJE ČASA (ZAČ. IN OBČ. DELO)  \n",
       "VADITELJ/ICA         DLJE ČASA (ZAČ. IN OBČ. DELO)  \n",
       "TRENER/KA            DLJE ČASA (ZAČ. IN OBČ. DELO)  \n",
       "POUČEVANJE           DLJE ČASA (ZAČ. IN OBČ. DELO)  \n",
       "...                                            ...  \n",
       "PRODAJA              DLJE ČASA (ZAČ. IN OBČ. DELO)  \n",
       "PRODAJA              DLJE ČASA (ZAČ. IN OBČ. DELO)  \n",
       "KLICNI CENTER                      POČITNIŠKO DELO  \n",
       "PROJEKTNO DELO       DLJE ČASA (ZAČ. IN OBČ. DELO)  \n",
       "DELO V LABORATORIJU  DLJE ČASA (ZAČ. IN OBČ. DELO)  \n",
       "\n",
       "[1908 rows x 4 columns]"
      ]
     },
     "execution_count": 3,
     "metadata": {},
     "output_type": "execute_result"
    }
   ],
   "source": [
    "podtabela = DELA.copy()\n",
    "podtabela[\"plača neto\"] = podtabela[\"plača neto\"].str.extract(r'(\\d+\\.\\d+)').astype(float)\n",
    "podtabela = podtabela.sort_values(\"plača neto\", ascending=False).dropna(subset=[\"plača neto\"])\n",
    "podtabela[\"plača neto\"] = podtabela[\"plača neto\"].astype(str) + \" €/h neto\"\n",
    "podtabela"
   ]
  },
  {
   "cell_type": "markdown",
   "metadata": {},
   "source": [
    "Funkcija, ki vrne slovar, kjer vrednosti predstavljajo število možnih del, glede na delovnik"
   ]
  },
  {
   "cell_type": "code",
   "execution_count": 4,
   "metadata": {},
   "outputs": [
    {
     "data": {
      "text/plain": [
       "{'Dopoldan': 559,\n",
       " 'Popoldan': 165,\n",
       " 'Po dogovoru': 626,\n",
       " 'Izmensko': 598,\n",
       " 'Ostalo': 52}"
      ]
     },
     "execution_count": 4,
     "metadata": {},
     "output_type": "execute_result"
    }
   ],
   "source": [
    "def šteje_dela_po_delovniku(DELA):\n",
    "    preštevanje = {\n",
    "        'Dopoldan': int(DELA['delovnik'].str.contains('DOPOLDAN').sum()),\n",
    "        'Popoldan': int(DELA['delovnik'].str.contains('POPOLDAN').sum()),\n",
    "        'Po dogovoru': int(DELA['delovnik'].str.contains('PO DOGOVORU').sum()),\n",
    "        'Izmensko': int(DELA['delovnik'].str.contains('IZMENSKO').sum())\n",
    "    }\n",
    "    preštevanje['Ostalo'] = int(DELA[~DELA['delovnik'].str.contains('DOPOLDAN|POPOLDAN|PO DOGOVORU|IZMENSKO', case=False, na=False)].shape[0])\n",
    "    return preštevanje\n",
    "\n",
    "slovar = šteje_dela_po_delovniku(DELA)\n",
    "slovar"
   ]
  },
  {
   "cell_type": "code",
   "execution_count": 5,
   "metadata": {},
   "outputs": [
    {
     "data": {
      "image/png": "[encoded data removed]",
      "text/plain": [
       "<Figure size 600x600 with 1 Axes>"
      ]
     },
     "metadata": {},
     "output_type": "display_data"
    }
   ],
   "source": [
    "čas_dela = list(slovar.keys())\n",
    "število_del = list(slovar.values())\n",
    "plt.figure(figsize=(6, 6))\n",
    "plt.pie(število_del, labels=čas_dela, autopct='%1.2f%%', startangle=140)\n",
    "plt.title('Razporeditev delovnih časov')\n",
    "plt.show()"
   ]
  },
  {
   "cell_type": "markdown",
   "metadata": {},
   "source": [
    "# Dela v Ljubljani"
   ]
  },
  {
   "cell_type": "code",
   "execution_count": 6,
   "metadata": {},
   "outputs": [
    {
     "data": {
      "text/html": [
       "<div>\n",
       "<style scoped>\n",
       "    .dataframe tbody tr th:only-of-type {\n",
       "        vertical-align: middle;\n",
       "    }\n",
       "\n",
       "    .dataframe tbody tr th {\n",
       "        vertical-align: top;\n",
       "    }\n",
       "\n",
       "    .dataframe thead th {\n",
       "        text-align: right;\n",
       "    }\n",
       "</style>\n",
       "<table border=\"1\" class=\"dataframe\">\n",
       "  <thead>\n",
       "    <tr style=\"text-align: right;\">\n",
       "      <th></th>\n",
       "      <th>plača neto</th>\n",
       "      <th>kraj</th>\n",
       "      <th>delovnik</th>\n",
       "      <th>trajanje</th>\n",
       "    </tr>\n",
       "    <tr>\n",
       "      <th>delo</th>\n",
       "      <th></th>\n",
       "      <th></th>\n",
       "      <th></th>\n",
       "      <th></th>\n",
       "    </tr>\n",
       "  </thead>\n",
       "  <tbody>\n",
       "    <tr>\n",
       "      <th>MARKETING</th>\n",
       "      <td>9.00 €/h neto</td>\n",
       "      <td>LJUBLJANA</td>\n",
       "      <td>DOPOLDAN</td>\n",
       "      <td>DLJE ČASA (ZAČ. IN OBČ. DELO)</td>\n",
       "    </tr>\n",
       "    <tr>\n",
       "      <th>ADMINISTRATIVNA DELA</th>\n",
       "      <td>7.31 €/h neto</td>\n",
       "      <td>LJUBLJANA</td>\n",
       "      <td>DOPOLDAN</td>\n",
       "      <td>DLJE ČASA (ZAČ. IN OBČ. DELO)</td>\n",
       "    </tr>\n",
       "    <tr>\n",
       "      <th>DELO V TURIZMU</th>\n",
       "      <td>8.00 €/h neto</td>\n",
       "      <td>LJUBLJANA</td>\n",
       "      <td>IZMENSKO</td>\n",
       "      <td>PO DOGOVORU</td>\n",
       "    </tr>\n",
       "    <tr>\n",
       "      <th>INŠTRUKCIJE</th>\n",
       "      <td>9.60 €/h neto</td>\n",
       "      <td>LJUBLJANA</td>\n",
       "      <td>PO DOGOVORU</td>\n",
       "      <td>DLJE ČASA (ZAČ. IN OBČ. DELO)</td>\n",
       "    </tr>\n",
       "    <tr>\n",
       "      <th>POMOČ PRI PRODAJI</th>\n",
       "      <td>7.00 €/h neto</td>\n",
       "      <td>LJUBLJANA</td>\n",
       "      <td>IZMENSKO</td>\n",
       "      <td>DLJE ČASA (ZAČ. IN OBČ. DELO)</td>\n",
       "    </tr>\n",
       "    <tr>\n",
       "      <th>...</th>\n",
       "      <td>...</td>\n",
       "      <td>...</td>\n",
       "      <td>...</td>\n",
       "      <td>...</td>\n",
       "    </tr>\n",
       "    <tr>\n",
       "      <th>DELO V SKLADIŠČU</th>\n",
       "      <td>7.80 €/h neto</td>\n",
       "      <td>LJUBLJANA</td>\n",
       "      <td>DOPOLDAN</td>\n",
       "      <td>DLJE ČASA (ZAČ. IN OBČ. DELO)</td>\n",
       "    </tr>\n",
       "    <tr>\n",
       "      <th>BLAGAJNIK</th>\n",
       "      <td>6.88 €/h neto</td>\n",
       "      <td>LJUBLJANA</td>\n",
       "      <td>IZMENSKO</td>\n",
       "      <td>POČITNIŠKO DELO</td>\n",
       "    </tr>\n",
       "    <tr>\n",
       "      <th>ZDRAVSTVENA NEGA</th>\n",
       "      <td>8.00 €/h neto</td>\n",
       "      <td>LJUBLJANA</td>\n",
       "      <td>PO DOGOVORU</td>\n",
       "      <td>DLJE ČASA (ZAČ. IN OBČ. DELO)</td>\n",
       "    </tr>\n",
       "    <tr>\n",
       "      <th>PRODAJA</th>\n",
       "      <td>7.00 €/h neto</td>\n",
       "      <td>LJUBLJANA RUDNIK IN /ALI VIČ</td>\n",
       "      <td>IZMENSKO</td>\n",
       "      <td>DLJE ČASA (ZAČ. IN OBČ. DELO)</td>\n",
       "    </tr>\n",
       "    <tr>\n",
       "      <th>STREŽBA HRANE IN PIJAČE</th>\n",
       "      <td>7.40 €/h neto</td>\n",
       "      <td>LJUBLJANA</td>\n",
       "      <td>PO DOGOVORU</td>\n",
       "      <td>DLJE ČASA (ZAČ. IN OBČ. DELO)</td>\n",
       "    </tr>\n",
       "  </tbody>\n",
       "</table>\n",
       "<p>739 rows × 4 columns</p>\n",
       "</div>"
      ],
      "text/plain": [
       "                            plača neto                          kraj  \\\n",
       "delo                                                                   \n",
       "MARKETING                9.00 €/h neto                     LJUBLJANA   \n",
       "ADMINISTRATIVNA DELA     7.31 €/h neto                     LJUBLJANA   \n",
       "DELO V TURIZMU           8.00 €/h neto                     LJUBLJANA   \n",
       "INŠTRUKCIJE              9.60 €/h neto                     LJUBLJANA   \n",
       "POMOČ PRI PRODAJI        7.00 €/h neto                     LJUBLJANA   \n",
       "...                                ...                           ...   \n",
       "DELO V SKLADIŠČU         7.80 €/h neto                     LJUBLJANA   \n",
       "BLAGAJNIK                6.88 €/h neto                     LJUBLJANA   \n",
       "ZDRAVSTVENA NEGA         8.00 €/h neto                     LJUBLJANA   \n",
       "PRODAJA                  7.00 €/h neto  LJUBLJANA RUDNIK IN /ALI VIČ   \n",
       "STREŽBA HRANE IN PIJAČE  7.40 €/h neto                     LJUBLJANA   \n",
       "\n",
       "                            delovnik                       trajanje  \n",
       "delo                                                                 \n",
       "MARKETING                   DOPOLDAN  DLJE ČASA (ZAČ. IN OBČ. DELO)  \n",
       "ADMINISTRATIVNA DELA        DOPOLDAN  DLJE ČASA (ZAČ. IN OBČ. DELO)  \n",
       "DELO V TURIZMU              IZMENSKO                    PO DOGOVORU  \n",
       "INŠTRUKCIJE              PO DOGOVORU  DLJE ČASA (ZAČ. IN OBČ. DELO)  \n",
       "POMOČ PRI PRODAJI           IZMENSKO  DLJE ČASA (ZAČ. IN OBČ. DELO)  \n",
       "...                              ...                            ...  \n",
       "DELO V SKLADIŠČU            DOPOLDAN  DLJE ČASA (ZAČ. IN OBČ. DELO)  \n",
       "BLAGAJNIK                   IZMENSKO                POČITNIŠKO DELO  \n",
       "ZDRAVSTVENA NEGA         PO DOGOVORU  DLJE ČASA (ZAČ. IN OBČ. DELO)  \n",
       "PRODAJA                     IZMENSKO  DLJE ČASA (ZAČ. IN OBČ. DELO)  \n",
       "STREŽBA HRANE IN PIJAČE  PO DOGOVORU  DLJE ČASA (ZAČ. IN OBČ. DELO)  \n",
       "\n",
       "[739 rows x 4 columns]"
      ]
     },
     "execution_count": 6,
     "metadata": {},
     "output_type": "execute_result"
    }
   ],
   "source": [
    "dela_v_Lj = DELA[DELA['kraj'].str.contains(r'\\bLJUBLJANA\\b|\\bLJUBLJANI\\b', case=False, na=False)]\n",
    "dela_v_Lj"
   ]
  },
  {
   "cell_type": "markdown",
   "metadata": {},
   "source": [
    "Funkcija, ki vrne slovar, katerega vrednosti so števila možnih del glede na delovnik"
   ]
  },
  {
   "cell_type": "code",
   "execution_count": 7,
   "metadata": {},
   "outputs": [
    {
     "data": {
      "text/plain": [
       "{'Dopoldan': 281,\n",
       " 'Popoldan': 64,\n",
       " 'Po dogovoru': 197,\n",
       " 'Izmensko': 188,\n",
       " 'Ostalo': 9}"
      ]
     },
     "execution_count": 7,
     "metadata": {},
     "output_type": "execute_result"
    }
   ],
   "source": [
    "def šteje_dela_po_delovniku(dela_v_Lj):\n",
    "    preštevanje = {\n",
    "        'Dopoldan': int(dela_v_Lj['delovnik'].str.contains('DOPOLDAN').sum()),\n",
    "        'Popoldan': int(dela_v_Lj['delovnik'].str.contains('POPOLDAN').sum()),\n",
    "        'Po dogovoru': int(dela_v_Lj['delovnik'].str.contains('PO DOGOVORU').sum()),\n",
    "        'Izmensko': int(dela_v_Lj['delovnik'].str.contains('IZMENSKO').sum())\n",
    "    }\n",
    "    preštevanje['Ostalo'] = int(dela_v_Lj[~dela_v_Lj['delovnik'].str.contains('DOPOLDAN|POPOLDAN|PO DOGOVORU|IZMENSKO', case=False, na=False)].shape[0])\n",
    "    return preštevanje\n",
    "\n",
    "števila = šteje_dela_po_delovniku(dela_v_Lj)\n",
    "števila"
   ]
  },
  {
   "cell_type": "code",
   "execution_count": 8,
   "metadata": {},
   "outputs": [
    {
     "data": {
      "image/png": "[encoded data removed]",
      "text/plain": [
       "<Figure size 600x600 with 1 Axes>"
      ]
     },
     "metadata": {},
     "output_type": "display_data"
    }
   ],
   "source": [
    "čas_dela = list(števila.keys())\n",
    "število_del = list(števila.values())\n",
    "plt.figure(figsize=(6, 6))\n",
    "plt.pie(število_del, labels=čas_dela, autopct='%1.2f%%', startangle=140)\n",
    "plt.title('Razporeditev delovnih časov v Ljubljani')\n",
    "plt.show()"
   ]
  },
  {
   "cell_type": "markdown",
   "metadata": {},
   "source": [
    "Ločimo dela v Ljubljani glede na velikost plače"
   ]
  },
  {
   "cell_type": "code",
   "execution_count": 24,
   "metadata": {},
   "outputs": [
    {
     "data": {
      "text/html": [
       "<div>\n",
       "<style scoped>\n",
       "    .dataframe tbody tr th:only-of-type {\n",
       "        vertical-align: middle;\n",
       "    }\n",
       "\n",
       "    .dataframe tbody tr th {\n",
       "        vertical-align: top;\n",
       "    }\n",
       "\n",
       "    .dataframe thead th {\n",
       "        text-align: right;\n",
       "    }\n",
       "</style>\n",
       "<table border=\"1\" class=\"dataframe\">\n",
       "  <thead>\n",
       "    <tr style=\"text-align: right;\">\n",
       "      <th></th>\n",
       "      <th>plača neto</th>\n",
       "    </tr>\n",
       "    <tr>\n",
       "      <th>delo</th>\n",
       "      <th></th>\n",
       "    </tr>\n",
       "  </thead>\n",
       "  <tbody>\n",
       "    <tr>\n",
       "      <th>ADMINISTRATIVNA DELA</th>\n",
       "      <td>7.94 €/h neto</td>\n",
       "    </tr>\n",
       "    <tr>\n",
       "      <th>ANIMATOR/KA</th>\n",
       "      <td>7.92 €/h neto</td>\n",
       "    </tr>\n",
       "    <tr>\n",
       "      <th>POMOČ V STREŽBI</th>\n",
       "      <td>7.85 €/h neto</td>\n",
       "    </tr>\n",
       "    <tr>\n",
       "      <th>DELO V KUHINJI</th>\n",
       "      <td>7.80 €/h neto</td>\n",
       "    </tr>\n",
       "    <tr>\n",
       "      <th>STREŽBA</th>\n",
       "      <td>7.80 €/h neto</td>\n",
       "    </tr>\n",
       "    <tr>\n",
       "      <th>...</th>\n",
       "      <td>...</td>\n",
       "    </tr>\n",
       "    <tr>\n",
       "      <th>PROJEKTNO DELO</th>\n",
       "      <td>6.20 €/h neto</td>\n",
       "    </tr>\n",
       "    <tr>\n",
       "      <th>MASER/KA</th>\n",
       "      <td>6.20 €/h neto</td>\n",
       "    </tr>\n",
       "    <tr>\n",
       "      <th>ADMINISTRATIVNA DELA</th>\n",
       "      <td>6.20 €/h neto</td>\n",
       "    </tr>\n",
       "    <tr>\n",
       "      <th>POMOČ PRI PRODAJI</th>\n",
       "      <td>6.20 €/h neto</td>\n",
       "    </tr>\n",
       "    <tr>\n",
       "      <th>ANKETIRANJE PO TELEFONU</th>\n",
       "      <td>6.20 €/h neto</td>\n",
       "    </tr>\n",
       "  </tbody>\n",
       "</table>\n",
       "<p>431 rows × 1 columns</p>\n",
       "</div>"
      ],
      "text/plain": [
       "                            plača neto\n",
       "delo                                  \n",
       "ADMINISTRATIVNA DELA     7.94 €/h neto\n",
       "ANIMATOR/KA              7.92 €/h neto\n",
       "POMOČ V STREŽBI          7.85 €/h neto\n",
       "DELO V KUHINJI           7.80 €/h neto\n",
       "STREŽBA                  7.80 €/h neto\n",
       "...                                ...\n",
       "PROJEKTNO DELO           6.20 €/h neto\n",
       "MASER/KA                 6.20 €/h neto\n",
       "ADMINISTRATIVNA DELA     6.20 €/h neto\n",
       "POMOČ PRI PRODAJI        6.20 €/h neto\n",
       "ANKETIRANJE PO TELEFONU  6.20 €/h neto\n",
       "\n",
       "[431 rows x 1 columns]"
      ]
     },
     "execution_count": 24,
     "metadata": {},
     "output_type": "execute_result"
    }
   ],
   "source": [
    "plača_do_osem = dela_v_Lj[(dela_v_Lj['plača neto'] >= '6.20 €/h neto') & (dela_v_Lj['plača neto'] <= '7.99 €/h neto')].sort_values('plača neto', ascending= False)\n",
    "plača_do_osem[['plača neto']]"
   ]
  },
  {
   "cell_type": "code",
   "execution_count": 10,
   "metadata": {},
   "outputs": [
    {
     "data": {
      "text/plain": [
       "plača neto\n",
       "6.20 €/h neto    75\n",
       "6.24 €/h neto     3\n",
       "6.30 €/h neto     1\n",
       "6.37 €/h neto     1\n",
       "6.41 €/h neto     1\n",
       "                 ..\n",
       "7.74 €/h neto    39\n",
       "7.80 €/h neto     5\n",
       "7.85 €/h neto     1\n",
       "7.92 €/h neto     1\n",
       "7.94 €/h neto     1\n",
       "Length: 44, dtype: int64"
      ]
     },
     "execution_count": 10,
     "metadata": {},
     "output_type": "execute_result"
    }
   ],
   "source": [
    "do_osem = plača_do_osem.groupby('plača neto').size()\n",
    "do_osem"
   ]
  },
  {
   "cell_type": "code",
   "execution_count": 11,
   "metadata": {},
   "outputs": [
    {
     "data": {
      "text/plain": [
       "<Axes: xlabel='plača neto'>"
      ]
     },
     "execution_count": 11,
     "metadata": {},
     "output_type": "execute_result"
    },
    {
     "data": {
      "image/png": "[encoded data removed]",
      "text/plain": [
       "<Figure size 640x480 with 1 Axes>"
      ]
     },
     "metadata": {},
     "output_type": "display_data"
    }
   ],
   "source": [
    "do_osem.plot.bar()"
   ]
  },
  {
   "cell_type": "code",
   "execution_count": 29,
   "metadata": {},
   "outputs": [
    {
     "data": {
      "text/html": [
       "<div>\n",
       "<style scoped>\n",
       "    .dataframe tbody tr th:only-of-type {\n",
       "        vertical-align: middle;\n",
       "    }\n",
       "\n",
       "    .dataframe tbody tr th {\n",
       "        vertical-align: top;\n",
       "    }\n",
       "\n",
       "    .dataframe thead th {\n",
       "        text-align: right;\n",
       "    }\n",
       "</style>\n",
       "<table border=\"1\" class=\"dataframe\">\n",
       "  <thead>\n",
       "    <tr style=\"text-align: right;\">\n",
       "      <th></th>\n",
       "      <th>plača neto</th>\n",
       "    </tr>\n",
       "    <tr>\n",
       "      <th>delo</th>\n",
       "      <th></th>\n",
       "    </tr>\n",
       "  </thead>\n",
       "  <tbody>\n",
       "    <tr>\n",
       "      <th>STROJNIŠKA DELA</th>\n",
       "      <td>9.90 €/h neto</td>\n",
       "    </tr>\n",
       "    <tr>\n",
       "      <th>PROGRAMIRANJE</th>\n",
       "      <td>9.90 €/h neto</td>\n",
       "    </tr>\n",
       "    <tr>\n",
       "      <th>INFORMATIKA</th>\n",
       "      <td>9.90 €/h neto</td>\n",
       "    </tr>\n",
       "    <tr>\n",
       "      <th>INŠTRUKCIJE</th>\n",
       "      <td>9.60 €/h neto</td>\n",
       "    </tr>\n",
       "    <tr>\n",
       "      <th>STREŽBA</th>\n",
       "      <td>9.50 €/h neto</td>\n",
       "    </tr>\n",
       "    <tr>\n",
       "      <th>...</th>\n",
       "      <td>...</td>\n",
       "    </tr>\n",
       "    <tr>\n",
       "      <th>STREŽBA</th>\n",
       "      <td>8.00 €/h neto</td>\n",
       "    </tr>\n",
       "    <tr>\n",
       "      <th>PRODAJA</th>\n",
       "      <td>8.00 €/h neto</td>\n",
       "    </tr>\n",
       "    <tr>\n",
       "      <th>PRODAJA</th>\n",
       "      <td>8.00 €/h neto</td>\n",
       "    </tr>\n",
       "    <tr>\n",
       "      <th>POMOČ V STREŽBI</th>\n",
       "      <td>8.00 €/h neto</td>\n",
       "    </tr>\n",
       "    <tr>\n",
       "      <th>ZDRAVSTVENA NEGA</th>\n",
       "      <td>8.00 €/h neto</td>\n",
       "    </tr>\n",
       "  </tbody>\n",
       "</table>\n",
       "<p>218 rows × 1 columns</p>\n",
       "</div>"
      ],
      "text/plain": [
       "                     plača neto\n",
       "delo                           \n",
       "STROJNIŠKA DELA   9.90 €/h neto\n",
       "PROGRAMIRANJE     9.90 €/h neto\n",
       "INFORMATIKA       9.90 €/h neto\n",
       "INŠTRUKCIJE       9.60 €/h neto\n",
       "STREŽBA           9.50 €/h neto\n",
       "...                         ...\n",
       "STREŽBA           8.00 €/h neto\n",
       "PRODAJA           8.00 €/h neto\n",
       "PRODAJA           8.00 €/h neto\n",
       "POMOČ V STREŽBI   8.00 €/h neto\n",
       "ZDRAVSTVENA NEGA  8.00 €/h neto\n",
       "\n",
       "[218 rows x 1 columns]"
      ]
     },
     "execution_count": 29,
     "metadata": {},
     "output_type": "execute_result"
    }
   ],
   "source": [
    "plača_od_osem_do_deset = dela_v_Lj[(dela_v_Lj['plača neto'] >= '8.00 €/h neto') & (dela_v_Lj['plača neto'] <= '9.99 €/h neto')].sort_values('plača neto', ascending=False)\n",
    "plača_od_osem_do_deset[['plača neto']]"
   ]
  },
  {
   "cell_type": "code",
   "execution_count": 30,
   "metadata": {},
   "outputs": [
    {
     "data": {
      "text/plain": [
       "plača neto\n",
       "8.00 €/h neto    81\n",
       "8.05 €/h neto     2\n",
       "8.09 €/h neto     1\n",
       "8.15 €/h neto     5\n",
       "8.17 €/h neto     7\n",
       "                 ..\n",
       "9.30 €/h neto     6\n",
       "9.47 €/h neto     8\n",
       "9.50 €/h neto     3\n",
       "9.60 €/h neto     1\n",
       "9.90 €/h neto     3\n",
       "Length: 26, dtype: int64"
      ]
     },
     "execution_count": 30,
     "metadata": {},
     "output_type": "execute_result"
    }
   ],
   "source": [
    "filter1 = plača_od_osem_do_deset.groupby('plača neto').size()\n",
    "filter1"
   ]
  },
  {
   "cell_type": "code",
   "execution_count": 14,
   "metadata": {},
   "outputs": [
    {
     "data": {
      "text/plain": [
       "<Axes: xlabel='plača neto'>"
      ]
     },
     "execution_count": 14,
     "metadata": {},
     "output_type": "execute_result"
    },
    {
     "data": {
      "image/png": "[encoded data removed]",
      "text/plain": [
       "<Figure size 640x480 with 1 Axes>"
      ]
     },
     "metadata": {},
     "output_type": "display_data"
    }
   ],
   "source": [
    "filter1.plot.bar()"
   ]
  },
  {
   "cell_type": "code",
   "execution_count": 34,
   "metadata": {},
   "outputs": [
    {
     "ename": "TypeError",
     "evalue": "bad operand type for unary ~: 'str'",
     "output_type": "error",
     "traceback": [
      "\u001b[1;31m---------------------------------------------------------------------------\u001b[0m",
      "\u001b[1;31mTypeError\u001b[0m                                 Traceback (most recent call last)",
      "Cell \u001b[1;32mIn[34], line 4\u001b[0m\n\u001b[0;32m      1\u001b[0m \u001b[38;5;66;03m#plača_nad_deset = dela_v_Lj[(dela_v_Lj['plača neto'] >= '10.00 €/h neto') & (dela_v_Lj['plača neto'] < '50.0 €/h neto')].sort_values('plača neto', ascending= False)\u001b[39;00m\n\u001b[0;32m      2\u001b[0m \u001b[38;5;66;03m#plača_nad_deset[['plača neto']]\u001b[39;00m\n\u001b[1;32m----> 4\u001b[0m plača_nad_deset \u001b[38;5;241m=\u001b[39m dela_v_Lj[\u001b[38;5;241;43m~\u001b[39;49m\u001b[43mplača_do_osem\u001b[49m]\n",
      "File \u001b[1;32m~\\AppData\\Local\\Packages\\PythonSoftwareFoundation.Python.3.11_qbz5n2kfra8p0\\LocalCache\\local-packages\\Python311\\site-packages\\pandas\\core\\generic.py:1571\u001b[0m, in \u001b[0;36mNDFrame.__invert__\u001b[1;34m(self)\u001b[0m\n\u001b[0;32m   1567\u001b[0m \u001b[38;5;28;01mif\u001b[39;00m \u001b[38;5;129;01mnot\u001b[39;00m \u001b[38;5;28mself\u001b[39m\u001b[38;5;241m.\u001b[39msize:\n\u001b[0;32m   1568\u001b[0m     \u001b[38;5;66;03m# inv fails with 0 len\u001b[39;00m\n\u001b[0;32m   1569\u001b[0m     \u001b[38;5;28;01mreturn\u001b[39;00m \u001b[38;5;28mself\u001b[39m\u001b[38;5;241m.\u001b[39mcopy(deep\u001b[38;5;241m=\u001b[39m\u001b[38;5;28;01mFalse\u001b[39;00m)\n\u001b[1;32m-> 1571\u001b[0m new_data \u001b[38;5;241m=\u001b[39m \u001b[38;5;28;43mself\u001b[39;49m\u001b[38;5;241;43m.\u001b[39;49m\u001b[43m_mgr\u001b[49m\u001b[38;5;241;43m.\u001b[39;49m\u001b[43mapply\u001b[49m\u001b[43m(\u001b[49m\u001b[43moperator\u001b[49m\u001b[38;5;241;43m.\u001b[39;49m\u001b[43minvert\u001b[49m\u001b[43m)\u001b[49m\n\u001b[0;32m   1572\u001b[0m res \u001b[38;5;241m=\u001b[39m \u001b[38;5;28mself\u001b[39m\u001b[38;5;241m.\u001b[39m_constructor_from_mgr(new_data, axes\u001b[38;5;241m=\u001b[39mnew_data\u001b[38;5;241m.\u001b[39maxes)\n\u001b[0;32m   1573\u001b[0m \u001b[38;5;28;01mreturn\u001b[39;00m res\u001b[38;5;241m.\u001b[39m__finalize__(\u001b[38;5;28mself\u001b[39m, method\u001b[38;5;241m=\u001b[39m\u001b[38;5;124m\"\u001b[39m\u001b[38;5;124m__invert__\u001b[39m\u001b[38;5;124m\"\u001b[39m)\n",
      "File \u001b[1;32m~\\AppData\\Local\\Packages\\PythonSoftwareFoundation.Python.3.11_qbz5n2kfra8p0\\LocalCache\\local-packages\\Python311\\site-packages\\pandas\\core\\internals\\managers.py:361\u001b[0m, in \u001b[0;36mBaseBlockManager.apply\u001b[1;34m(self, f, align_keys, **kwargs)\u001b[0m\n\u001b[0;32m    358\u001b[0m             kwargs[k] \u001b[38;5;241m=\u001b[39m obj[b\u001b[38;5;241m.\u001b[39mmgr_locs\u001b[38;5;241m.\u001b[39mindexer]\n\u001b[0;32m    360\u001b[0m \u001b[38;5;28;01mif\u001b[39;00m \u001b[38;5;28mcallable\u001b[39m(f):\n\u001b[1;32m--> 361\u001b[0m     applied \u001b[38;5;241m=\u001b[39m \u001b[43mb\u001b[49m\u001b[38;5;241;43m.\u001b[39;49m\u001b[43mapply\u001b[49m\u001b[43m(\u001b[49m\u001b[43mf\u001b[49m\u001b[43m,\u001b[49m\u001b[43m \u001b[49m\u001b[38;5;241;43m*\u001b[39;49m\u001b[38;5;241;43m*\u001b[39;49m\u001b[43mkwargs\u001b[49m\u001b[43m)\u001b[49m\n\u001b[0;32m    362\u001b[0m \u001b[38;5;28;01melse\u001b[39;00m:\n\u001b[0;32m    363\u001b[0m     applied \u001b[38;5;241m=\u001b[39m \u001b[38;5;28mgetattr\u001b[39m(b, f)(\u001b[38;5;241m*\u001b[39m\u001b[38;5;241m*\u001b[39mkwargs)\n",
      "File \u001b[1;32m~\\AppData\\Local\\Packages\\PythonSoftwareFoundation.Python.3.11_qbz5n2kfra8p0\\LocalCache\\local-packages\\Python311\\site-packages\\pandas\\core\\internals\\blocks.py:393\u001b[0m, in \u001b[0;36mBlock.apply\u001b[1;34m(self, func, **kwargs)\u001b[0m\n\u001b[0;32m    387\u001b[0m \u001b[38;5;129m@final\u001b[39m\n\u001b[0;32m    388\u001b[0m \u001b[38;5;28;01mdef\u001b[39;00m \u001b[38;5;21mapply\u001b[39m(\u001b[38;5;28mself\u001b[39m, func, \u001b[38;5;241m*\u001b[39m\u001b[38;5;241m*\u001b[39mkwargs) \u001b[38;5;241m-\u001b[39m\u001b[38;5;241m>\u001b[39m \u001b[38;5;28mlist\u001b[39m[Block]:\n\u001b[0;32m    389\u001b[0m \u001b[38;5;250m    \u001b[39m\u001b[38;5;124;03m\"\"\"\u001b[39;00m\n\u001b[0;32m    390\u001b[0m \u001b[38;5;124;03m    apply the function to my values; return a block if we are not\u001b[39;00m\n\u001b[0;32m    391\u001b[0m \u001b[38;5;124;03m    one\u001b[39;00m\n\u001b[0;32m    392\u001b[0m \u001b[38;5;124;03m    \"\"\"\u001b[39;00m\n\u001b[1;32m--> 393\u001b[0m     result \u001b[38;5;241m=\u001b[39m \u001b[43mfunc\u001b[49m\u001b[43m(\u001b[49m\u001b[38;5;28;43mself\u001b[39;49m\u001b[38;5;241;43m.\u001b[39;49m\u001b[43mvalues\u001b[49m\u001b[43m,\u001b[49m\u001b[43m \u001b[49m\u001b[38;5;241;43m*\u001b[39;49m\u001b[38;5;241;43m*\u001b[39;49m\u001b[43mkwargs\u001b[49m\u001b[43m)\u001b[49m\n\u001b[0;32m    395\u001b[0m     result \u001b[38;5;241m=\u001b[39m maybe_coerce_values(result)\n\u001b[0;32m    396\u001b[0m     \u001b[38;5;28;01mreturn\u001b[39;00m \u001b[38;5;28mself\u001b[39m\u001b[38;5;241m.\u001b[39m_split_op_result(result)\n",
      "\u001b[1;31mTypeError\u001b[0m: bad operand type for unary ~: 'str'"
     ]
    }
   ],
   "source": [
    "#plača_nad_deset = dela_v_Lj[(dela_v_Lj['plača neto'] >= '10.00 €/h neto') & (dela_v_Lj['plača neto'] < '50.0 €/h neto')].sort_values('plača neto', ascending= False)\n",
    "#plača_nad_deset[['plača neto']]\n",
    "\n",
    "plača_nad_deset = dela_v_Lj[dela_v_Lj[~plača_do_osem]]"
   ]
  },
  {
   "cell_type": "code",
   "execution_count": 16,
   "metadata": {},
   "outputs": [
    {
     "data": {
      "text/plain": [
       "plača neto\n",
       "10.15 €/h neto    1\n",
       "10.18 €/h neto    1\n",
       "10.33 €/h neto    2\n",
       "10.50 €/h neto    1\n",
       "10.62 €/h neto    1\n",
       "                 ..\n",
       "13.77 €/h neto    4\n",
       "14.00 €/h neto    1\n",
       "15.00 €/h neto    7\n",
       "15.27 €/h neto    3\n",
       "20.00 €/h neto    2\n",
       "Length: 19, dtype: int64"
      ]
     },
     "execution_count": 16,
     "metadata": {},
     "output_type": "execute_result"
    }
   ],
   "source": [
    "filter2 = plača_nad_deset.groupby('plača neto').size()\n",
    "filter2"
   ]
  },
  {
   "cell_type": "code",
   "execution_count": 17,
   "metadata": {},
   "outputs": [
    {
     "data": {
      "text/plain": [
       "<Axes: xlabel='plača neto'>"
      ]
     },
     "execution_count": 17,
     "metadata": {},
     "output_type": "execute_result"
    },
    {
     "data": {
      "image/png": "[encoded data removed]",
      "text/plain": [
       "<Figure size 640x480 with 1 Axes>"
      ]
     },
     "metadata": {},
     "output_type": "display_data"
    }
   ],
   "source": [
    "filter2.plot.bar()"
   ]
  },
  {
   "cell_type": "markdown",
   "metadata": {},
   "source": [
    "# Dela izven Ljubljane"
   ]
  },
  {
   "cell_type": "markdown",
   "metadata": {},
   "source": [
    "Tabela razvrsti dela od najbolj do najmanj plačanih"
   ]
  },
  {
   "cell_type": "code",
   "execution_count": 18,
   "metadata": {},
   "outputs": [
    {
     "data": {
      "text/html": [
       "<div>\n",
       "<style scoped>\n",
       "    .dataframe tbody tr th:only-of-type {\n",
       "        vertical-align: middle;\n",
       "    }\n",
       "\n",
       "    .dataframe tbody tr th {\n",
       "        vertical-align: top;\n",
       "    }\n",
       "\n",
       "    .dataframe thead th {\n",
       "        text-align: right;\n",
       "    }\n",
       "</style>\n",
       "<table border=\"1\" class=\"dataframe\">\n",
       "  <thead>\n",
       "    <tr style=\"text-align: right;\">\n",
       "      <th></th>\n",
       "      <th>delo</th>\n",
       "      <th>plača neto</th>\n",
       "      <th>kraj</th>\n",
       "      <th>delovnik</th>\n",
       "      <th>trajanje</th>\n",
       "    </tr>\n",
       "  </thead>\n",
       "  <tbody>\n",
       "    <tr>\n",
       "      <th>0</th>\n",
       "      <td>POUČEVANJE</td>\n",
       "      <td>20.0 €/h neto</td>\n",
       "      <td>KAMNIK</td>\n",
       "      <td>POPOLDAN</td>\n",
       "      <td>DLJE ČASA (ZAČ. IN OBČ. DELO)</td>\n",
       "    </tr>\n",
       "    <tr>\n",
       "      <th>1</th>\n",
       "      <td>VADITELJ/ICA</td>\n",
       "      <td>20.0 €/h neto</td>\n",
       "      <td>VELENJE</td>\n",
       "      <td>DOPOLDAN</td>\n",
       "      <td>DLJE ČASA (ZAČ. IN OBČ. DELO)</td>\n",
       "    </tr>\n",
       "    <tr>\n",
       "      <th>2</th>\n",
       "      <td>POUČEVANJE</td>\n",
       "      <td>16.52 €/h neto</td>\n",
       "      <td>BLED IN RADOVLJICA</td>\n",
       "      <td>POPOLDAN</td>\n",
       "      <td>DLJE ČASA (ZAČ. IN OBČ. DELO)</td>\n",
       "    </tr>\n",
       "    <tr>\n",
       "      <th>3</th>\n",
       "      <td>TRENER/KA</td>\n",
       "      <td>15.0 €/h neto</td>\n",
       "      <td>GROSUPLJE</td>\n",
       "      <td>POPOLDAN</td>\n",
       "      <td>DLJE ČASA (ZAČ. IN OBČ. DELO)</td>\n",
       "    </tr>\n",
       "    <tr>\n",
       "      <th>4</th>\n",
       "      <td>POUČEVANJE</td>\n",
       "      <td>15.0 €/h neto</td>\n",
       "      <td>IDRIJA</td>\n",
       "      <td>DOPOLDAN</td>\n",
       "      <td>DLJE ČASA (ZAČ. IN OBČ. DELO)</td>\n",
       "    </tr>\n",
       "    <tr>\n",
       "      <th>...</th>\n",
       "      <td>...</td>\n",
       "      <td>...</td>\n",
       "      <td>...</td>\n",
       "      <td>...</td>\n",
       "      <td>...</td>\n",
       "    </tr>\n",
       "    <tr>\n",
       "      <th>1185</th>\n",
       "      <td>DIGITALNI MARKETING</td>\n",
       "      <td>6.2 €/h neto</td>\n",
       "      <td>MARIBOR</td>\n",
       "      <td>PO DOGOVORU</td>\n",
       "      <td>PO DOGOVORU</td>\n",
       "    </tr>\n",
       "    <tr>\n",
       "      <th>1186</th>\n",
       "      <td>DELO V KUHINJI</td>\n",
       "      <td>6.2 €/h neto</td>\n",
       "      <td>SLOVENSKE KONJICE</td>\n",
       "      <td>DOPOLDAN</td>\n",
       "      <td>POČITNIŠKO DELO</td>\n",
       "    </tr>\n",
       "    <tr>\n",
       "      <th>1187</th>\n",
       "      <td>PRODAJA</td>\n",
       "      <td>6.2 €/h neto</td>\n",
       "      <td>MURSKA SOBOTA</td>\n",
       "      <td>IZMENSKO</td>\n",
       "      <td>DLJE ČASA (ZAČ. IN OBČ. DELO)</td>\n",
       "    </tr>\n",
       "    <tr>\n",
       "      <th>1188</th>\n",
       "      <td>PRODAJA</td>\n",
       "      <td>6.2 €/h neto</td>\n",
       "      <td>CELJE</td>\n",
       "      <td>PO DOGOVORU</td>\n",
       "      <td>DLJE ČASA (ZAČ. IN OBČ. DELO)</td>\n",
       "    </tr>\n",
       "    <tr>\n",
       "      <th>1189</th>\n",
       "      <td>PROJEKTNO DELO</td>\n",
       "      <td>6.2 €/h neto</td>\n",
       "      <td>KAMNIK</td>\n",
       "      <td>PO DOGOVORU</td>\n",
       "      <td>DLJE ČASA (ZAČ. IN OBČ. DELO)</td>\n",
       "    </tr>\n",
       "  </tbody>\n",
       "</table>\n",
       "<p>1190 rows × 5 columns</p>\n",
       "</div>"
      ],
      "text/plain": [
       "                     delo      plača neto                kraj     delovnik  \\\n",
       "0              POUČEVANJE   20.0 €/h neto              KAMNIK     POPOLDAN   \n",
       "1            VADITELJ/ICA   20.0 €/h neto             VELENJE     DOPOLDAN   \n",
       "2              POUČEVANJE  16.52 €/h neto  BLED IN RADOVLJICA     POPOLDAN   \n",
       "3               TRENER/KA   15.0 €/h neto           GROSUPLJE     POPOLDAN   \n",
       "4              POUČEVANJE   15.0 €/h neto              IDRIJA     DOPOLDAN   \n",
       "...                   ...             ...                 ...          ...   \n",
       "1185  DIGITALNI MARKETING    6.2 €/h neto             MARIBOR  PO DOGOVORU   \n",
       "1186       DELO V KUHINJI    6.2 €/h neto   SLOVENSKE KONJICE     DOPOLDAN   \n",
       "1187              PRODAJA    6.2 €/h neto       MURSKA SOBOTA     IZMENSKO   \n",
       "1188              PRODAJA    6.2 €/h neto               CELJE  PO DOGOVORU   \n",
       "1189       PROJEKTNO DELO    6.2 €/h neto              KAMNIK  PO DOGOVORU   \n",
       "\n",
       "                           trajanje  \n",
       "0     DLJE ČASA (ZAČ. IN OBČ. DELO)  \n",
       "1     DLJE ČASA (ZAČ. IN OBČ. DELO)  \n",
       "2     DLJE ČASA (ZAČ. IN OBČ. DELO)  \n",
       "3     DLJE ČASA (ZAČ. IN OBČ. DELO)  \n",
       "4     DLJE ČASA (ZAČ. IN OBČ. DELO)  \n",
       "...                             ...  \n",
       "1185                    PO DOGOVORU  \n",
       "1186                POČITNIŠKO DELO  \n",
       "1187  DLJE ČASA (ZAČ. IN OBČ. DELO)  \n",
       "1188  DLJE ČASA (ZAČ. IN OBČ. DELO)  \n",
       "1189  DLJE ČASA (ZAČ. IN OBČ. DELO)  \n",
       "\n",
       "[1190 rows x 5 columns]"
      ]
     },
     "execution_count": 18,
     "metadata": {},
     "output_type": "execute_result"
    }
   ],
   "source": [
    "ne_v_Lj = podtabela[~podtabela['kraj'].str.contains(r'\\bLJUBLJANA\\b|\\bLJUBLJANI\\b', case= False)].reset_index()\n",
    "ne_v_Lj"
   ]
  },
  {
   "cell_type": "markdown",
   "metadata": {},
   "source": [
    "Funkcija, ki prikaže število vseh del izven Ljubljane"
   ]
  },
  {
   "cell_type": "code",
   "execution_count": 19,
   "metadata": {},
   "outputs": [
    {
     "data": {
      "text/plain": [
       "delo\n",
       "STREŽBA                               210\n",
       "POMOČ V STREŽBI                        86\n",
       "STREŽBA HRANE IN PIJAČE                72\n",
       "DELO V PROIZVODNJI                     62\n",
       "BLAGAJNIK                              48\n",
       "                                     ... \n",
       "MARKETING                               1\n",
       "POMOČNIK VZGOJITELJA/VZGOJITELJICE      1\n",
       "KNJIGOVODSKA DELA                       1\n",
       "VARSTVO                                 1\n",
       "ANKETIRANJE                             1\n",
       "Name: count, Length: 113, dtype: int64"
      ]
     },
     "execution_count": 19,
     "metadata": {},
     "output_type": "execute_result"
    }
   ],
   "source": [
    "def stevilo_pojavitev_del(ne_v_Lj):\n",
    "    pojavitev = ne_v_Lj['delo'].value_counts()\n",
    "    return pojavitev\n",
    "\n",
    "stevilo_del = stevilo_pojavitev_del(ne_v_Lj)\n",
    "stevilo_del"
   ]
  },
  {
   "cell_type": "markdown",
   "metadata": {},
   "source": [
    "Oglejmo si trajanje in delovnik"
   ]
  },
  {
   "cell_type": "code",
   "execution_count": 20,
   "metadata": {},
   "outputs": [
    {
     "data": {
      "text/html": [
       "<div>\n",
       "<style scoped>\n",
       "    .dataframe tbody tr th:only-of-type {\n",
       "        vertical-align: middle;\n",
       "    }\n",
       "\n",
       "    .dataframe tbody tr th {\n",
       "        vertical-align: top;\n",
       "    }\n",
       "\n",
       "    .dataframe thead th {\n",
       "        text-align: right;\n",
       "    }\n",
       "</style>\n",
       "<table border=\"1\" class=\"dataframe\">\n",
       "  <thead>\n",
       "    <tr style=\"text-align: right;\">\n",
       "      <th></th>\n",
       "      <th>delo</th>\n",
       "      <th>delovnik</th>\n",
       "      <th>trajanje</th>\n",
       "    </tr>\n",
       "  </thead>\n",
       "  <tbody>\n",
       "    <tr>\n",
       "      <th>0</th>\n",
       "      <td>POUČEVANJE</td>\n",
       "      <td>POPOLDAN</td>\n",
       "      <td>DLJE ČASA (ZAČ. IN OBČ. DELO)</td>\n",
       "    </tr>\n",
       "    <tr>\n",
       "      <th>1</th>\n",
       "      <td>VADITELJ/ICA</td>\n",
       "      <td>DOPOLDAN</td>\n",
       "      <td>DLJE ČASA (ZAČ. IN OBČ. DELO)</td>\n",
       "    </tr>\n",
       "    <tr>\n",
       "      <th>2</th>\n",
       "      <td>POUČEVANJE</td>\n",
       "      <td>POPOLDAN</td>\n",
       "      <td>DLJE ČASA (ZAČ. IN OBČ. DELO)</td>\n",
       "    </tr>\n",
       "    <tr>\n",
       "      <th>3</th>\n",
       "      <td>TRENER/KA</td>\n",
       "      <td>POPOLDAN</td>\n",
       "      <td>DLJE ČASA (ZAČ. IN OBČ. DELO)</td>\n",
       "    </tr>\n",
       "    <tr>\n",
       "      <th>4</th>\n",
       "      <td>POUČEVANJE</td>\n",
       "      <td>DOPOLDAN</td>\n",
       "      <td>DLJE ČASA (ZAČ. IN OBČ. DELO)</td>\n",
       "    </tr>\n",
       "    <tr>\n",
       "      <th>...</th>\n",
       "      <td>...</td>\n",
       "      <td>...</td>\n",
       "      <td>...</td>\n",
       "    </tr>\n",
       "    <tr>\n",
       "      <th>1185</th>\n",
       "      <td>DIGITALNI MARKETING</td>\n",
       "      <td>PO DOGOVORU</td>\n",
       "      <td>PO DOGOVORU</td>\n",
       "    </tr>\n",
       "    <tr>\n",
       "      <th>1186</th>\n",
       "      <td>DELO V KUHINJI</td>\n",
       "      <td>DOPOLDAN</td>\n",
       "      <td>POČITNIŠKO DELO</td>\n",
       "    </tr>\n",
       "    <tr>\n",
       "      <th>1187</th>\n",
       "      <td>PRODAJA</td>\n",
       "      <td>IZMENSKO</td>\n",
       "      <td>DLJE ČASA (ZAČ. IN OBČ. DELO)</td>\n",
       "    </tr>\n",
       "    <tr>\n",
       "      <th>1188</th>\n",
       "      <td>PRODAJA</td>\n",
       "      <td>PO DOGOVORU</td>\n",
       "      <td>DLJE ČASA (ZAČ. IN OBČ. DELO)</td>\n",
       "    </tr>\n",
       "    <tr>\n",
       "      <th>1189</th>\n",
       "      <td>PROJEKTNO DELO</td>\n",
       "      <td>PO DOGOVORU</td>\n",
       "      <td>DLJE ČASA (ZAČ. IN OBČ. DELO)</td>\n",
       "    </tr>\n",
       "  </tbody>\n",
       "</table>\n",
       "<p>1190 rows × 3 columns</p>\n",
       "</div>"
      ],
      "text/plain": [
       "                     delo     delovnik                       trajanje\n",
       "0              POUČEVANJE     POPOLDAN  DLJE ČASA (ZAČ. IN OBČ. DELO)\n",
       "1            VADITELJ/ICA     DOPOLDAN  DLJE ČASA (ZAČ. IN OBČ. DELO)\n",
       "2              POUČEVANJE     POPOLDAN  DLJE ČASA (ZAČ. IN OBČ. DELO)\n",
       "3               TRENER/KA     POPOLDAN  DLJE ČASA (ZAČ. IN OBČ. DELO)\n",
       "4              POUČEVANJE     DOPOLDAN  DLJE ČASA (ZAČ. IN OBČ. DELO)\n",
       "...                   ...          ...                            ...\n",
       "1185  DIGITALNI MARKETING  PO DOGOVORU                    PO DOGOVORU\n",
       "1186       DELO V KUHINJI     DOPOLDAN                POČITNIŠKO DELO\n",
       "1187              PRODAJA     IZMENSKO  DLJE ČASA (ZAČ. IN OBČ. DELO)\n",
       "1188              PRODAJA  PO DOGOVORU  DLJE ČASA (ZAČ. IN OBČ. DELO)\n",
       "1189       PROJEKTNO DELO  PO DOGOVORU  DLJE ČASA (ZAČ. IN OBČ. DELO)\n",
       "\n",
       "[1190 rows x 3 columns]"
      ]
     },
     "execution_count": 20,
     "metadata": {},
     "output_type": "execute_result"
    }
   ],
   "source": [
    "ne_v_Lj = ne_v_Lj.reset_index()\n",
    "trajanje_in_delovnik = ne_v_Lj[['delo', 'delovnik', 'trajanje']].copy()\n",
    "trajanje_in_delovnik"
   ]
  },
  {
   "cell_type": "markdown",
   "metadata": {},
   "source": [
    "Histogram, ki prikazuje delovnik in število del, za določen delovni čas"
   ]
  },
  {
   "cell_type": "code",
   "execution_count": 21,
   "metadata": {},
   "outputs": [
    {
     "data": {
      "image/png": "[encoded data removed]",
      "text/plain": [
       "<Figure size 800x400 with 1 Axes>"
      ]
     },
     "metadata": {},
     "output_type": "display_data"
    }
   ],
   "source": [
    "plt.figure(figsize=(8, 4))\n",
    "trajanje_in_delovnik['delovnik'].value_counts().plot(kind='bar', color='cyan', edgecolor='blue')\n",
    "plt.title('Histogram za delovnik')\n",
    "plt.xlabel('Delovnik')\n",
    "plt.ylabel('Število del')\n",
    "plt.show()"
   ]
  },
  {
   "cell_type": "markdown",
   "metadata": {},
   "source": [
    "Dela v strežbi izven Ljubljane in trajanje"
   ]
  },
  {
   "cell_type": "code",
   "execution_count": 22,
   "metadata": {},
   "outputs": [
    {
     "data": {
      "text/html": [
       "<div>\n",
       "<style scoped>\n",
       "    .dataframe tbody tr th:only-of-type {\n",
       "        vertical-align: middle;\n",
       "    }\n",
       "\n",
       "    .dataframe tbody tr th {\n",
       "        vertical-align: top;\n",
       "    }\n",
       "\n",
       "    .dataframe thead th {\n",
       "        text-align: right;\n",
       "    }\n",
       "</style>\n",
       "<table border=\"1\" class=\"dataframe\">\n",
       "  <thead>\n",
       "    <tr style=\"text-align: right;\">\n",
       "      <th></th>\n",
       "      <th>delo</th>\n",
       "      <th>trajanje</th>\n",
       "    </tr>\n",
       "  </thead>\n",
       "  <tbody>\n",
       "    <tr>\n",
       "      <th>32</th>\n",
       "      <td>STREŽBA HRANE IN PIJAČE</td>\n",
       "      <td>PO DOGOVORU</td>\n",
       "    </tr>\n",
       "    <tr>\n",
       "      <th>33</th>\n",
       "      <td>STREŽBA</td>\n",
       "      <td>DO 30. 9. 2024</td>\n",
       "    </tr>\n",
       "    <tr>\n",
       "      <th>40</th>\n",
       "      <td>POMOČ V STREŽBI</td>\n",
       "      <td>DLJE ČASA (ZAČ. IN OBČ. DELO)</td>\n",
       "    </tr>\n",
       "    <tr>\n",
       "      <th>44</th>\n",
       "      <td>POMOČ V STREŽBI</td>\n",
       "      <td>DLJE ČASA (ZAČ. IN OBČ. DELO)</td>\n",
       "    </tr>\n",
       "    <tr>\n",
       "      <th>49</th>\n",
       "      <td>POMOČ V STREŽBI</td>\n",
       "      <td>DLJE ČASA (ZAČ. IN OBČ. DELO)</td>\n",
       "    </tr>\n",
       "    <tr>\n",
       "      <th>...</th>\n",
       "      <td>...</td>\n",
       "      <td>...</td>\n",
       "    </tr>\n",
       "    <tr>\n",
       "      <th>1154</th>\n",
       "      <td>POMOČ V STREŽBI</td>\n",
       "      <td>PO DOGOVORU</td>\n",
       "    </tr>\n",
       "    <tr>\n",
       "      <th>1165</th>\n",
       "      <td>STREŽBA</td>\n",
       "      <td>DLJE ČASA (ZAČ. IN OBČ. DELO)</td>\n",
       "    </tr>\n",
       "    <tr>\n",
       "      <th>1168</th>\n",
       "      <td>POMOČ V STREŽBI</td>\n",
       "      <td>POČITNIŠKO DELO</td>\n",
       "    </tr>\n",
       "    <tr>\n",
       "      <th>1174</th>\n",
       "      <td>STREŽBA HRANE IN PIJAČE</td>\n",
       "      <td>DLJE ČASA (ZAČ. IN OBČ. DELO)</td>\n",
       "    </tr>\n",
       "    <tr>\n",
       "      <th>1177</th>\n",
       "      <td>STREŽBA</td>\n",
       "      <td>DLJE ČASA (ZAČ. IN OBČ. DELO)</td>\n",
       "    </tr>\n",
       "  </tbody>\n",
       "</table>\n",
       "<p>368 rows × 2 columns</p>\n",
       "</div>"
      ],
      "text/plain": [
       "                         delo                       trajanje\n",
       "32    STREŽBA HRANE IN PIJAČE                    PO DOGOVORU\n",
       "33                    STREŽBA                 DO 30. 9. 2024\n",
       "40            POMOČ V STREŽBI  DLJE ČASA (ZAČ. IN OBČ. DELO)\n",
       "44            POMOČ V STREŽBI  DLJE ČASA (ZAČ. IN OBČ. DELO)\n",
       "49            POMOČ V STREŽBI  DLJE ČASA (ZAČ. IN OBČ. DELO)\n",
       "...                       ...                            ...\n",
       "1154          POMOČ V STREŽBI                    PO DOGOVORU\n",
       "1165                  STREŽBA  DLJE ČASA (ZAČ. IN OBČ. DELO)\n",
       "1168          POMOČ V STREŽBI                POČITNIŠKO DELO\n",
       "1174  STREŽBA HRANE IN PIJAČE  DLJE ČASA (ZAČ. IN OBČ. DELO)\n",
       "1177                  STREŽBA  DLJE ČASA (ZAČ. IN OBČ. DELO)\n",
       "\n",
       "[368 rows x 2 columns]"
      ]
     },
     "execution_count": 22,
     "metadata": {},
     "output_type": "execute_result"
    }
   ],
   "source": [
    "strežba = trajanje_in_delovnik[trajanje_in_delovnik['delo'].str.contains(r'\\bSTREŽBA\\b|\\bSTREŽBI\\b', case=False)]\n",
    "strežba[['delo', 'trajanje']]"
   ]
  },
  {
   "cell_type": "markdown",
   "metadata": {},
   "source": [
    "Tabela, ki prikazuje dela v strežbi in njihovo trajanje"
   ]
  },
  {
   "cell_type": "code",
   "execution_count": 23,
   "metadata": {},
   "outputs": [
    {
     "data": {
      "image/png": "[encoded data removed]",
      "text/plain": [
       "<Figure size 1000x800 with 1 Axes>"
      ]
     },
     "metadata": {},
     "output_type": "display_data"
    }
   ],
   "source": [
    "s = strežba.copy()\n",
    "s['trajanje'] = s['trajanje'].apply(lambda x: 'PO DOGOVORU' if 'PO DOGOVORU' in x else x)\n",
    "trajanje_dela = s.groupby(['trajanje', 'delo']).size().unstack().fillna(0)\n",
    "\n",
    "barve = [\n",
    "    'pink', 'blue', 'red', 'purple', 'orange', 'green', 'yellow', 'magenta',\n",
    "    'brown', 'cyan', 'lime', 'black', 'gold', 'grey'\n",
    "]\n",
    "\n",
    "trajanje_dela.T.plot(kind='bar', stacked=True, figsize=(10, 8), color=barve)\n",
    "plt.title('Trajanje zaposlitve glede na vrsto dela')\n",
    "plt.xlabel('Delo')\n",
    "plt.ylabel('Število del')\n",
    "plt.xticks(rotation=45)\n",
    "plt.legend(title='Trajanje', prop={'size': 8})\n",
    "plt.show()"
   ]
  }
 ],
 "metadata": {
  "kernelspec": {
   "display_name": "Python 3",
   "language": "python",
   "name": "python3"
  },
  "language_info": {
   "codemirror_mode": {
    "name": "ipython",
    "version": 3
   },
   "file_extension": ".py",
   "mimetype": "text/x-python",
   "name": "python",
   "nbconvert_exporter": "python",
   "pygments_lexer": "ipython3",
   "version": "3.11.9"
  },
  "polyglot_notebook": {
   "kernelInfo": {
    "defaultKernelName": "csharp",
    "items": [
     {
      "aliases": [],
      "name": "csharp"
     }
    ]
   }
  }
 },
 "nbformat": 4,
 "nbformat_minor": 2
}
