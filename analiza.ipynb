{
 "cells": [
  {
   "cell_type": "markdown",
   "metadata": {
    "notebookRunGroups": {
     "groupValue": "1"
    }
   },
   "source": [
    "Podatki iz csv-ja o študentskih delih"
   ]
  },
  {
   "cell_type": "code",
   "execution_count": 38,
   "metadata": {},
   "outputs": [],
   "source": [
    "import pandas as pd\n",
    "\n",
    "pd.set_option('display.max_rows', 10)\n",
    "\n",
    "%matplotlib inline\n",
    "\n",
    "DELA = pd.read_csv(\"studentska_dela.csv\", index_col=\"delo\")"
   ]
  },
  {
   "cell_type": "code",
   "execution_count": 39,
   "metadata": {},
   "outputs": [
    {
     "data": {
      "text/html": [
       "<div>\n",
       "<style scoped>\n",
       "    .dataframe tbody tr th:only-of-type {\n",
       "        vertical-align: middle;\n",
       "    }\n",
       "\n",
       "    .dataframe tbody tr th {\n",
       "        vertical-align: top;\n",
       "    }\n",
       "\n",
       "    .dataframe thead th {\n",
       "        text-align: right;\n",
       "    }\n",
       "</style>\n",
       "<table border=\"1\" class=\"dataframe\">\n",
       "  <thead>\n",
       "    <tr style=\"text-align: right;\">\n",
       "      <th></th>\n",
       "      <th>plača neto</th>\n",
       "      <th>kraj</th>\n",
       "      <th>delovnik</th>\n",
       "      <th>trajanje</th>\n",
       "    </tr>\n",
       "    <tr>\n",
       "      <th>delo</th>\n",
       "      <th></th>\n",
       "      <th></th>\n",
       "      <th></th>\n",
       "      <th></th>\n",
       "    </tr>\n",
       "  </thead>\n",
       "  <tbody>\n",
       "    <tr>\n",
       "      <th>ADMINISTRATIVNA DELA</th>\n",
       "      <td>6.20 €/h neto</td>\n",
       "      <td>LJUBLJANA</td>\n",
       "      <td>DOPOLDAN</td>\n",
       "      <td>DLJE ČASA (ZAČ. IN OBČ. DELO)</td>\n",
       "    </tr>\n",
       "    <tr>\n",
       "      <th>POMOČ PRI PRODAJI</th>\n",
       "      <td>6.20 €/h neto</td>\n",
       "      <td>LJUBLJANA ŠIŠKA</td>\n",
       "      <td>IZMENSKO</td>\n",
       "      <td>DLJE ČASA (ZAČ. IN OBČ. DELO)</td>\n",
       "    </tr>\n",
       "    <tr>\n",
       "      <th>POUČEVANJE</th>\n",
       "      <td>9.30 €/h neto</td>\n",
       "      <td>LJUBLJANA</td>\n",
       "      <td>POPOLDAN</td>\n",
       "      <td>DLJE ČASA (ZAČ. IN OBČ. DELO)</td>\n",
       "    </tr>\n",
       "    <tr>\n",
       "      <th>POUČEVANJE</th>\n",
       "      <td>9.30 €/h neto</td>\n",
       "      <td>LJUBLJANA</td>\n",
       "      <td>POPOLDAN</td>\n",
       "      <td>DLJE ČASA (ZAČ. IN OBČ. DELO)</td>\n",
       "    </tr>\n",
       "    <tr>\n",
       "      <th>POUČEVANJE</th>\n",
       "      <td>9.30 €/h neto</td>\n",
       "      <td>LJUBLJANA</td>\n",
       "      <td>POPOLDAN</td>\n",
       "      <td>DLJE ČASA (ZAČ. IN OBČ. DELO)</td>\n",
       "    </tr>\n",
       "    <tr>\n",
       "      <th>...</th>\n",
       "      <td>...</td>\n",
       "      <td>...</td>\n",
       "      <td>...</td>\n",
       "      <td>...</td>\n",
       "    </tr>\n",
       "    <tr>\n",
       "      <th>STREŽBA</th>\n",
       "      <td>7.25 €/h neto</td>\n",
       "      <td>KAMNIK</td>\n",
       "      <td>IZMENSKO</td>\n",
       "      <td>DLJE ČASA (ZAČ. IN OBČ. DELO)</td>\n",
       "    </tr>\n",
       "    <tr>\n",
       "      <th>STREŽBA</th>\n",
       "      <td>6.50 €/h neto</td>\n",
       "      <td>MARIBOR</td>\n",
       "      <td>PO DOGOVORU</td>\n",
       "      <td>PO DOGOVORU</td>\n",
       "    </tr>\n",
       "    <tr>\n",
       "      <th>STREŽBA</th>\n",
       "      <td>8.00 €/h neto</td>\n",
       "      <td>LJUBLJANA</td>\n",
       "      <td>IZMENSKO</td>\n",
       "      <td>DLJE ČASA (ZAČ. IN OBČ. DELO)</td>\n",
       "    </tr>\n",
       "    <tr>\n",
       "      <th>ZDRAVSTVENA NEGA</th>\n",
       "      <td>6.31 €/h neto</td>\n",
       "      <td>LENDAVA</td>\n",
       "      <td>DOPOLDAN</td>\n",
       "      <td>DLJE ČASA (ZAČ. IN OBČ. DELO)</td>\n",
       "    </tr>\n",
       "    <tr>\n",
       "      <th>STREŽBA</th>\n",
       "      <td>8.00 €/h neto</td>\n",
       "      <td>LJUBLJANA</td>\n",
       "      <td>PO DOGOVORU</td>\n",
       "      <td>DLJE ČASA (ZAČ. IN OBČ. DELO)</td>\n",
       "    </tr>\n",
       "  </tbody>\n",
       "</table>\n",
       "<p>2000 rows × 4 columns</p>\n",
       "</div>"
      ],
      "text/plain": [
       "                         plača neto             kraj     delovnik  \\\n",
       "delo                                                                \n",
       "ADMINISTRATIVNA DELA  6.20 €/h neto        LJUBLJANA     DOPOLDAN   \n",
       "POMOČ PRI PRODAJI     6.20 €/h neto  LJUBLJANA ŠIŠKA     IZMENSKO   \n",
       "POUČEVANJE            9.30 €/h neto        LJUBLJANA     POPOLDAN   \n",
       "POUČEVANJE            9.30 €/h neto        LJUBLJANA     POPOLDAN   \n",
       "POUČEVANJE            9.30 €/h neto        LJUBLJANA     POPOLDAN   \n",
       "...                             ...              ...          ...   \n",
       "STREŽBA               7.25 €/h neto           KAMNIK     IZMENSKO   \n",
       "STREŽBA               6.50 €/h neto          MARIBOR  PO DOGOVORU   \n",
       "STREŽBA               8.00 €/h neto        LJUBLJANA     IZMENSKO   \n",
       "ZDRAVSTVENA NEGA      6.31 €/h neto          LENDAVA     DOPOLDAN   \n",
       "STREŽBA               8.00 €/h neto        LJUBLJANA  PO DOGOVORU   \n",
       "\n",
       "                                           trajanje  \n",
       "delo                                                 \n",
       "ADMINISTRATIVNA DELA  DLJE ČASA (ZAČ. IN OBČ. DELO)  \n",
       "POMOČ PRI PRODAJI     DLJE ČASA (ZAČ. IN OBČ. DELO)  \n",
       "POUČEVANJE            DLJE ČASA (ZAČ. IN OBČ. DELO)  \n",
       "POUČEVANJE            DLJE ČASA (ZAČ. IN OBČ. DELO)  \n",
       "POUČEVANJE            DLJE ČASA (ZAČ. IN OBČ. DELO)  \n",
       "...                                             ...  \n",
       "STREŽBA               DLJE ČASA (ZAČ. IN OBČ. DELO)  \n",
       "STREŽBA                                 PO DOGOVORU  \n",
       "STREŽBA               DLJE ČASA (ZAČ. IN OBČ. DELO)  \n",
       "ZDRAVSTVENA NEGA      DLJE ČASA (ZAČ. IN OBČ. DELO)  \n",
       "STREŽBA               DLJE ČASA (ZAČ. IN OBČ. DELO)  \n",
       "\n",
       "[2000 rows x 4 columns]"
      ]
     },
     "execution_count": 39,
     "metadata": {},
     "output_type": "execute_result"
    }
   ],
   "source": [
    "DELA"
   ]
  },
  {
   "cell_type": "markdown",
   "metadata": {
    "notebookRunGroups": {
     "groupValue": "2"
    }
   },
   "source": [
    "Najbolj plačana dela "
   ]
  },
  {
   "cell_type": "code",
   "execution_count": 40,
   "metadata": {},
   "outputs": [
    {
     "data": {
      "text/html": [
       "<div>\n",
       "<style scoped>\n",
       "    .dataframe tbody tr th:only-of-type {\n",
       "        vertical-align: middle;\n",
       "    }\n",
       "\n",
       "    .dataframe tbody tr th {\n",
       "        vertical-align: top;\n",
       "    }\n",
       "\n",
       "    .dataframe thead th {\n",
       "        text-align: right;\n",
       "    }\n",
       "</style>\n",
       "<table border=\"1\" class=\"dataframe\">\n",
       "  <thead>\n",
       "    <tr style=\"text-align: right;\">\n",
       "      <th></th>\n",
       "      <th>plača neto</th>\n",
       "    </tr>\n",
       "    <tr>\n",
       "      <th>delo</th>\n",
       "      <th></th>\n",
       "    </tr>\n",
       "  </thead>\n",
       "  <tbody>\n",
       "    <tr>\n",
       "      <th>TRENER/KA</th>\n",
       "      <td>20.0</td>\n",
       "    </tr>\n",
       "    <tr>\n",
       "      <th>POUČEVANJE</th>\n",
       "      <td>20.0</td>\n",
       "    </tr>\n",
       "    <tr>\n",
       "      <th>TRENER/KA</th>\n",
       "      <td>20.0</td>\n",
       "    </tr>\n",
       "    <tr>\n",
       "      <th>TRENER/KA</th>\n",
       "      <td>20.0</td>\n",
       "    </tr>\n",
       "    <tr>\n",
       "      <th>VADITELJ/ICA</th>\n",
       "      <td>20.0</td>\n",
       "    </tr>\n",
       "    <tr>\n",
       "      <th>...</th>\n",
       "      <td>...</td>\n",
       "    </tr>\n",
       "    <tr>\n",
       "      <th>DIGITALNI MARKETING</th>\n",
       "      <td>6.2</td>\n",
       "    </tr>\n",
       "    <tr>\n",
       "      <th>GRADBENA DELA</th>\n",
       "      <td>6.2</td>\n",
       "    </tr>\n",
       "    <tr>\n",
       "      <th>MONTAŽA</th>\n",
       "      <td>6.2</td>\n",
       "    </tr>\n",
       "    <tr>\n",
       "      <th>PRODAJA</th>\n",
       "      <td>6.2</td>\n",
       "    </tr>\n",
       "    <tr>\n",
       "      <th>NEGOVANJE</th>\n",
       "      <td>6.2</td>\n",
       "    </tr>\n",
       "  </tbody>\n",
       "</table>\n",
       "<p>1895 rows × 1 columns</p>\n",
       "</div>"
      ],
      "text/plain": [
       "                     plača neto\n",
       "delo                           \n",
       "TRENER/KA                  20.0\n",
       "POUČEVANJE                 20.0\n",
       "TRENER/KA                  20.0\n",
       "TRENER/KA                  20.0\n",
       "VADITELJ/ICA               20.0\n",
       "...                         ...\n",
       "DIGITALNI MARKETING         6.2\n",
       "GRADBENA DELA               6.2\n",
       "MONTAŽA                     6.2\n",
       "PRODAJA                     6.2\n",
       "NEGOVANJE                   6.2\n",
       "\n",
       "[1895 rows x 1 columns]"
      ]
     },
     "execution_count": 40,
     "metadata": {},
     "output_type": "execute_result"
    }
   ],
   "source": [
    "DELA[\"plača neto\"] = DELA[\"plača neto\"].str.extract(r'(\\d+\\.\\d+)').astype(float)\n",
    "DELA[['plača neto']].sort_values(\"plača neto\", ascending=False).dropna(subset=[\"plača neto\"])"
   ]
  }
 ],
 "metadata": {
  "kernelspec": {
   "display_name": "Python 3",
   "language": "python",
   "name": "python3"
  },
  "language_info": {
   "codemirror_mode": {
    "name": "ipython",
    "version": 3
   },
   "file_extension": ".py",
   "mimetype": "text/x-python",
   "name": "python",
   "nbconvert_exporter": "python",
   "pygments_lexer": "ipython3",
   "version": "3.11.9"
  },
  "polyglot_notebook": {
   "kernelInfo": {
    "defaultKernelName": "csharp",
    "items": [
     {
      "aliases": [],
      "name": "csharp"
     }
    ]
   }
  }
 },
 "nbformat": 4,
 "nbformat_minor": 2
}
