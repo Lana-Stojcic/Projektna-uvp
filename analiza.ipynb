{
 "cells": [
  {
   "cell_type": "markdown",
   "metadata": {
    "notebookRunGroups": {
     "groupValue": "1"
    }
   },
   "source": [
    "# Podatki o študentskih delih"
   ]
  },
  {
   "cell_type": "code",
   "execution_count": 152,
   "metadata": {},
   "outputs": [],
   "source": [
    "import pandas as pd\n",
    "import matplotlib.pyplot as plt\n",
    "\n",
    "pd.set_option('display.max_rows', 10)\n",
    "\n",
    "%matplotlib inline\n",
    "\n",
    "DELA = pd.read_csv(\"studentska_dela.csv\", index_col=\"delo\")"
   ]
  },
  {
   "cell_type": "markdown",
   "metadata": {},
   "source": [
    "Tabela, ki prikazuje 2000 oglasov"
   ]
  },
  {
   "cell_type": "code",
   "execution_count": 153,
   "metadata": {},
   "outputs": [
    {
     "data": {
      "text/html": [
       "<div>\n",
       "<style scoped>\n",
       "    .dataframe tbody tr th:only-of-type {\n",
       "        vertical-align: middle;\n",
       "    }\n",
       "\n",
       "    .dataframe tbody tr th {\n",
       "        vertical-align: top;\n",
       "    }\n",
       "\n",
       "    .dataframe thead th {\n",
       "        text-align: right;\n",
       "    }\n",
       "</style>\n",
       "<table border=\"1\" class=\"dataframe\">\n",
       "  <thead>\n",
       "    <tr style=\"text-align: right;\">\n",
       "      <th></th>\n",
       "      <th>plača neto</th>\n",
       "      <th>kraj</th>\n",
       "      <th>delovnik</th>\n",
       "      <th>trajanje</th>\n",
       "    </tr>\n",
       "    <tr>\n",
       "      <th>delo</th>\n",
       "      <th></th>\n",
       "      <th></th>\n",
       "      <th></th>\n",
       "      <th></th>\n",
       "    </tr>\n",
       "  </thead>\n",
       "  <tbody>\n",
       "    <tr>\n",
       "      <th>POMOČ V KUHINJI</th>\n",
       "      <td>9.00 €/h neto</td>\n",
       "      <td>GOLNIK</td>\n",
       "      <td>PO DOGOVORU</td>\n",
       "      <td>PO DOGOVORU</td>\n",
       "    </tr>\n",
       "    <tr>\n",
       "      <th>DELO V RENT A CAR AGENCIJI</th>\n",
       "      <td>6.88 €/h neto</td>\n",
       "      <td>CELJE IN OKOLICA</td>\n",
       "      <td>PO DOGOVORU</td>\n",
       "      <td>DLJE ČASA (ZAČ. IN OBČ. DELO)</td>\n",
       "    </tr>\n",
       "    <tr>\n",
       "      <th>DELO V SKLADIŠČU</th>\n",
       "      <td>7.22 €/h neto</td>\n",
       "      <td>MARIBOR</td>\n",
       "      <td>DOPOLDAN</td>\n",
       "      <td>DLJE ČASA (ZAČ. IN OBČ. DELO)</td>\n",
       "    </tr>\n",
       "    <tr>\n",
       "      <th>POMOČ PRI PRODAJI</th>\n",
       "      <td>6.88 €/h neto</td>\n",
       "      <td>LESCE</td>\n",
       "      <td>PO DOGOVORU</td>\n",
       "      <td>DLJE ČASA (ZAČ. IN OBČ. DELO)</td>\n",
       "    </tr>\n",
       "    <tr>\n",
       "      <th>UREJANJE OKOLICE</th>\n",
       "      <td>7.74 €/h neto</td>\n",
       "      <td>MARIBOR</td>\n",
       "      <td>DOPOLDAN</td>\n",
       "      <td>DLJE ČASA (ZAČ. IN OBČ. DELO)</td>\n",
       "    </tr>\n",
       "    <tr>\n",
       "      <th>...</th>\n",
       "      <td>...</td>\n",
       "      <td>...</td>\n",
       "      <td>...</td>\n",
       "      <td>...</td>\n",
       "    </tr>\n",
       "    <tr>\n",
       "      <th>TEHNIČNA POMOČ</th>\n",
       "      <td>8.00 €/h neto</td>\n",
       "      <td>LJUBLJANA RUDNIK</td>\n",
       "      <td>IZMENSKO</td>\n",
       "      <td>DLJE ČASA (ZAČ. IN OBČ. DELO)</td>\n",
       "    </tr>\n",
       "    <tr>\n",
       "      <th>POMOČ V TRGOVINI</th>\n",
       "      <td>6.88 €/h neto</td>\n",
       "      <td>BLED</td>\n",
       "      <td>IZMENSKO</td>\n",
       "      <td>DLJE ČASA (ZAČ. IN OBČ. DELO)</td>\n",
       "    </tr>\n",
       "    <tr>\n",
       "      <th>PRODAJA</th>\n",
       "      <td>9.47 €/h neto</td>\n",
       "      <td>BLED</td>\n",
       "      <td>IZMENSKO</td>\n",
       "      <td>DLJE ČASA (ZAČ. IN OBČ. DELO)</td>\n",
       "    </tr>\n",
       "    <tr>\n",
       "      <th>TEHNIČNA POMOČ</th>\n",
       "      <td>PO DOGOVORU</td>\n",
       "      <td>MARIBOR</td>\n",
       "      <td>DOPOLDAN</td>\n",
       "      <td>DLJE ČASA (ZAČ. IN OBČ. DELO)</td>\n",
       "    </tr>\n",
       "    <tr>\n",
       "      <th>DELO V PROIZVODNJI</th>\n",
       "      <td>6.20 €/h neto</td>\n",
       "      <td>LJUBEČNA</td>\n",
       "      <td>IZMENSKO</td>\n",
       "      <td>POČITNIŠKO DELO</td>\n",
       "    </tr>\n",
       "  </tbody>\n",
       "</table>\n",
       "<p>2000 rows × 4 columns</p>\n",
       "</div>"
      ],
      "text/plain": [
       "                               plača neto              kraj     delovnik  \\\n",
       "delo                                                                       \n",
       "POMOČ V KUHINJI             9.00 €/h neto            GOLNIK  PO DOGOVORU   \n",
       "DELO V RENT A CAR AGENCIJI  6.88 €/h neto  CELJE IN OKOLICA  PO DOGOVORU   \n",
       "DELO V SKLADIŠČU            7.22 €/h neto           MARIBOR     DOPOLDAN   \n",
       "POMOČ PRI PRODAJI           6.88 €/h neto             LESCE  PO DOGOVORU   \n",
       "UREJANJE OKOLICE            7.74 €/h neto           MARIBOR     DOPOLDAN   \n",
       "...                                   ...               ...          ...   \n",
       "TEHNIČNA POMOČ              8.00 €/h neto  LJUBLJANA RUDNIK     IZMENSKO   \n",
       "POMOČ V TRGOVINI            6.88 €/h neto              BLED     IZMENSKO   \n",
       "PRODAJA                     9.47 €/h neto              BLED     IZMENSKO   \n",
       "TEHNIČNA POMOČ                PO DOGOVORU           MARIBOR     DOPOLDAN   \n",
       "DELO V PROIZVODNJI          6.20 €/h neto          LJUBEČNA     IZMENSKO   \n",
       "\n",
       "                                                 trajanje  \n",
       "delo                                                       \n",
       "POMOČ V KUHINJI                               PO DOGOVORU  \n",
       "DELO V RENT A CAR AGENCIJI  DLJE ČASA (ZAČ. IN OBČ. DELO)  \n",
       "DELO V SKLADIŠČU            DLJE ČASA (ZAČ. IN OBČ. DELO)  \n",
       "POMOČ PRI PRODAJI           DLJE ČASA (ZAČ. IN OBČ. DELO)  \n",
       "UREJANJE OKOLICE            DLJE ČASA (ZAČ. IN OBČ. DELO)  \n",
       "...                                                   ...  \n",
       "TEHNIČNA POMOČ              DLJE ČASA (ZAČ. IN OBČ. DELO)  \n",
       "POMOČ V TRGOVINI            DLJE ČASA (ZAČ. IN OBČ. DELO)  \n",
       "PRODAJA                     DLJE ČASA (ZAČ. IN OBČ. DELO)  \n",
       "TEHNIČNA POMOČ              DLJE ČASA (ZAČ. IN OBČ. DELO)  \n",
       "DELO V PROIZVODNJI                        POČITNIŠKO DELO  \n",
       "\n",
       "[2000 rows x 4 columns]"
      ]
     },
     "execution_count": 153,
     "metadata": {},
     "output_type": "execute_result"
    }
   ],
   "source": [
    "DELA"
   ]
  },
  {
   "cell_type": "markdown",
   "metadata": {
    "notebookRunGroups": {
     "groupValue": "2"
    }
   },
   "source": [
    "Podtabela, kjer so dela razporejena od najbolj do najmanj plačanih"
   ]
  },
  {
   "cell_type": "code",
   "execution_count": 154,
   "metadata": {},
   "outputs": [
    {
     "data": {
      "text/html": [
       "<div>\n",
       "<style scoped>\n",
       "    .dataframe tbody tr th:only-of-type {\n",
       "        vertical-align: middle;\n",
       "    }\n",
       "\n",
       "    .dataframe tbody tr th {\n",
       "        vertical-align: top;\n",
       "    }\n",
       "\n",
       "    .dataframe thead th {\n",
       "        text-align: right;\n",
       "    }\n",
       "</style>\n",
       "<table border=\"1\" class=\"dataframe\">\n",
       "  <thead>\n",
       "    <tr style=\"text-align: right;\">\n",
       "      <th></th>\n",
       "      <th>plača neto</th>\n",
       "      <th>kraj</th>\n",
       "      <th>delovnik</th>\n",
       "      <th>trajanje</th>\n",
       "    </tr>\n",
       "    <tr>\n",
       "      <th>delo</th>\n",
       "      <th></th>\n",
       "      <th></th>\n",
       "      <th></th>\n",
       "      <th></th>\n",
       "    </tr>\n",
       "  </thead>\n",
       "  <tbody>\n",
       "    <tr>\n",
       "      <th>TRENER/KA</th>\n",
       "      <td>20.0 €/h neto</td>\n",
       "      <td>RADOVLJICA</td>\n",
       "      <td>POPOLDAN</td>\n",
       "      <td>DLJE ČASA (ZAČ. IN OBČ. DELO)</td>\n",
       "    </tr>\n",
       "    <tr>\n",
       "      <th>TRENER/KA</th>\n",
       "      <td>20.0 €/h neto</td>\n",
       "      <td>LJUBLJANA</td>\n",
       "      <td>POPOLDAN</td>\n",
       "      <td>DLJE ČASA (ZAČ. IN OBČ. DELO)</td>\n",
       "    </tr>\n",
       "    <tr>\n",
       "      <th>POUČEVANJE</th>\n",
       "      <td>20.0 €/h neto</td>\n",
       "      <td>KAMNIK</td>\n",
       "      <td>POPOLDAN</td>\n",
       "      <td>DLJE ČASA (ZAČ. IN OBČ. DELO)</td>\n",
       "    </tr>\n",
       "    <tr>\n",
       "      <th>TRENER/KA</th>\n",
       "      <td>20.0 €/h neto</td>\n",
       "      <td>LJUBLJANA</td>\n",
       "      <td>POPOLDAN</td>\n",
       "      <td>DLJE ČASA (ZAČ. IN OBČ. DELO)</td>\n",
       "    </tr>\n",
       "    <tr>\n",
       "      <th>VADITELJ/ICA</th>\n",
       "      <td>20.0 €/h neto</td>\n",
       "      <td>VELENJE</td>\n",
       "      <td>DOPOLDAN</td>\n",
       "      <td>DLJE ČASA (ZAČ. IN OBČ. DELO)</td>\n",
       "    </tr>\n",
       "    <tr>\n",
       "      <th>...</th>\n",
       "      <td>...</td>\n",
       "      <td>...</td>\n",
       "      <td>...</td>\n",
       "      <td>...</td>\n",
       "    </tr>\n",
       "    <tr>\n",
       "      <th>POMOČ V STREŽBI</th>\n",
       "      <td>6.2 €/h neto</td>\n",
       "      <td>ORMOŽ</td>\n",
       "      <td>IZMENSKO</td>\n",
       "      <td>DLJE ČASA (ZAČ. IN OBČ. DELO)</td>\n",
       "    </tr>\n",
       "    <tr>\n",
       "      <th>DELO V KUHINJI</th>\n",
       "      <td>6.2 €/h neto</td>\n",
       "      <td>MALEČNIK</td>\n",
       "      <td>MED VIKENDI</td>\n",
       "      <td>PO DOGOVORU</td>\n",
       "    </tr>\n",
       "    <tr>\n",
       "      <th>LAŽJA FIZIČNA DELA</th>\n",
       "      <td>6.2 €/h neto</td>\n",
       "      <td>LJUBLJANA</td>\n",
       "      <td>PO DOGOVORU</td>\n",
       "      <td>DLJE ČASA (ZAČ. IN OBČ. DELO)</td>\n",
       "    </tr>\n",
       "    <tr>\n",
       "      <th>RAZVOZ</th>\n",
       "      <td>6.2 €/h neto</td>\n",
       "      <td>LJUBLJANA</td>\n",
       "      <td>IZMENSKO</td>\n",
       "      <td>DLJE ČASA (ZAČ. IN OBČ. DELO)</td>\n",
       "    </tr>\n",
       "    <tr>\n",
       "      <th>DELO V PROIZVODNJI</th>\n",
       "      <td>6.2 €/h neto</td>\n",
       "      <td>LJUBEČNA</td>\n",
       "      <td>IZMENSKO</td>\n",
       "      <td>POČITNIŠKO DELO</td>\n",
       "    </tr>\n",
       "  </tbody>\n",
       "</table>\n",
       "<p>1901 rows × 4 columns</p>\n",
       "</div>"
      ],
      "text/plain": [
       "                       plača neto        kraj     delovnik  \\\n",
       "delo                                                         \n",
       "TRENER/KA           20.0 €/h neto  RADOVLJICA     POPOLDAN   \n",
       "TRENER/KA           20.0 €/h neto   LJUBLJANA     POPOLDAN   \n",
       "POUČEVANJE          20.0 €/h neto      KAMNIK     POPOLDAN   \n",
       "TRENER/KA           20.0 €/h neto   LJUBLJANA     POPOLDAN   \n",
       "VADITELJ/ICA        20.0 €/h neto     VELENJE     DOPOLDAN   \n",
       "...                           ...         ...          ...   \n",
       "POMOČ V STREŽBI      6.2 €/h neto       ORMOŽ     IZMENSKO   \n",
       "DELO V KUHINJI       6.2 €/h neto    MALEČNIK  MED VIKENDI   \n",
       "LAŽJA FIZIČNA DELA   6.2 €/h neto   LJUBLJANA  PO DOGOVORU   \n",
       "RAZVOZ               6.2 €/h neto   LJUBLJANA     IZMENSKO   \n",
       "DELO V PROIZVODNJI   6.2 €/h neto    LJUBEČNA     IZMENSKO   \n",
       "\n",
       "                                         trajanje  \n",
       "delo                                               \n",
       "TRENER/KA           DLJE ČASA (ZAČ. IN OBČ. DELO)  \n",
       "TRENER/KA           DLJE ČASA (ZAČ. IN OBČ. DELO)  \n",
       "POUČEVANJE          DLJE ČASA (ZAČ. IN OBČ. DELO)  \n",
       "TRENER/KA           DLJE ČASA (ZAČ. IN OBČ. DELO)  \n",
       "VADITELJ/ICA        DLJE ČASA (ZAČ. IN OBČ. DELO)  \n",
       "...                                           ...  \n",
       "POMOČ V STREŽBI     DLJE ČASA (ZAČ. IN OBČ. DELO)  \n",
       "DELO V KUHINJI                        PO DOGOVORU  \n",
       "LAŽJA FIZIČNA DELA  DLJE ČASA (ZAČ. IN OBČ. DELO)  \n",
       "RAZVOZ              DLJE ČASA (ZAČ. IN OBČ. DELO)  \n",
       "DELO V PROIZVODNJI                POČITNIŠKO DELO  \n",
       "\n",
       "[1901 rows x 4 columns]"
      ]
     },
     "execution_count": 154,
     "metadata": {},
     "output_type": "execute_result"
    }
   ],
   "source": [
    "podtabela = DELA.copy()\n",
    "podtabela[\"plača neto\"] = podtabela[\"plača neto\"].str.extract(r'(\\d+\\.\\d+)').astype(float)\n",
    "podtabela = podtabela.sort_values(\"plača neto\", ascending=False).dropna(subset=[\"plača neto\"])\n",
    "podtabela[\"plača neto\"] = podtabela[\"plača neto\"].astype(str) + \" €/h neto\"\n",
    "podtabela"
   ]
  },
  {
   "cell_type": "markdown",
   "metadata": {},
   "source": [
    "Funkcija, ki vrne slovar, kjer ključi predstavljajo število možnih del, glede na delovnik"
   ]
  },
  {
   "cell_type": "code",
   "execution_count": 155,
   "metadata": {},
   "outputs": [
    {
     "data": {
      "text/plain": [
       "{'Dopoldan': 536,\n",
       " 'Popoldan': 168,\n",
       " 'Po dogovoru': 625,\n",
       " 'Izmensko': 617,\n",
       " 'Ostalo': 54}"
      ]
     },
     "execution_count": 155,
     "metadata": {},
     "output_type": "execute_result"
    }
   ],
   "source": [
    "def šteje_dela_po_delovniku(DELA):\n",
    "    preštevanje = {\n",
    "        'Dopoldan': int(DELA['delovnik'].str.contains('DOPOLDAN').sum()),\n",
    "        'Popoldan': int(DELA['delovnik'].str.contains('POPOLDAN').sum()),\n",
    "        'Po dogovoru': int(DELA['delovnik'].str.contains('PO DOGOVORU').sum()),\n",
    "        'Izmensko': int(DELA['delovnik'].str.contains('IZMENSKO').sum())\n",
    "    }\n",
    "    preštevanje['Ostalo'] = int(DELA[~DELA['delovnik'].str.contains('DOPOLDAN|POPOLDAN|PO DOGOVORU|IZMENSKO', case=False, na=False)].shape[0])\n",
    "    return preštevanje\n",
    "\n",
    "slovar = šteje_dela_po_delovniku(DELA)\n",
    "slovar"
   ]
  },
  {
   "cell_type": "code",
   "execution_count": 156,
   "metadata": {},
   "outputs": [
    {
     "data": {
      "image/png": "[encoded data removed]",
      "text/plain": [
       "<Figure size 600x600 with 1 Axes>"
      ]
     },
     "metadata": {},
     "output_type": "display_data"
    }
   ],
   "source": [
    "čas_dela = list(slovar.keys())\n",
    "število_del = list(slovar.values())\n",
    "plt.figure(figsize=(6, 6))\n",
    "plt.pie(število_del, labels=čas_dela, autopct='%1.2f%%', startangle=140)\n",
    "plt.title('Razporeditev delovnih časov')\n",
    "plt.show()"
   ]
  },
  {
   "cell_type": "markdown",
   "metadata": {},
   "source": [
    "# Dela v Ljubljani"
   ]
  },
  {
   "cell_type": "code",
   "execution_count": 157,
   "metadata": {},
   "outputs": [
    {
     "data": {
      "text/html": [
       "<div>\n",
       "<style scoped>\n",
       "    .dataframe tbody tr th:only-of-type {\n",
       "        vertical-align: middle;\n",
       "    }\n",
       "\n",
       "    .dataframe tbody tr th {\n",
       "        vertical-align: top;\n",
       "    }\n",
       "\n",
       "    .dataframe thead th {\n",
       "        text-align: right;\n",
       "    }\n",
       "</style>\n",
       "<table border=\"1\" class=\"dataframe\">\n",
       "  <thead>\n",
       "    <tr style=\"text-align: right;\">\n",
       "      <th></th>\n",
       "      <th>plača neto</th>\n",
       "      <th>kraj</th>\n",
       "      <th>delovnik</th>\n",
       "      <th>trajanje</th>\n",
       "    </tr>\n",
       "    <tr>\n",
       "      <th>delo</th>\n",
       "      <th></th>\n",
       "      <th></th>\n",
       "      <th></th>\n",
       "      <th></th>\n",
       "    </tr>\n",
       "  </thead>\n",
       "  <tbody>\n",
       "    <tr>\n",
       "      <th>TRENER/KA</th>\n",
       "      <td>20.0 €/h neto</td>\n",
       "      <td>LJUBLJANA</td>\n",
       "      <td>POPOLDAN</td>\n",
       "      <td>DLJE ČASA (ZAČ. IN OBČ. DELO)</td>\n",
       "    </tr>\n",
       "    <tr>\n",
       "      <th>TRENER/KA</th>\n",
       "      <td>20.0 €/h neto</td>\n",
       "      <td>LJUBLJANA</td>\n",
       "      <td>POPOLDAN</td>\n",
       "      <td>DLJE ČASA (ZAČ. IN OBČ. DELO)</td>\n",
       "    </tr>\n",
       "    <tr>\n",
       "      <th>PRODAJA</th>\n",
       "      <td>15.27 €/h neto</td>\n",
       "      <td>LJUBLJANA IN OKOLICA</td>\n",
       "      <td>IZMENSKO</td>\n",
       "      <td>DLJE ČASA (ZAČ. IN OBČ. DELO)</td>\n",
       "    </tr>\n",
       "    <tr>\n",
       "      <th>PROGRAMIRANJE</th>\n",
       "      <td>15.27 €/h neto</td>\n",
       "      <td>LJUBLJANA ALI OD DOMA</td>\n",
       "      <td>PO DOGOVORU</td>\n",
       "      <td>DLJE ČASA (ZAČ. IN OBČ. DELO)</td>\n",
       "    </tr>\n",
       "    <tr>\n",
       "      <th>PROGRAMIRANJE</th>\n",
       "      <td>15.27 €/h neto</td>\n",
       "      <td>LJUBLJANA</td>\n",
       "      <td>PO DOGOVORU</td>\n",
       "      <td>DLJE ČASA (ZAČ. IN OBČ. DELO)</td>\n",
       "    </tr>\n",
       "    <tr>\n",
       "      <th>...</th>\n",
       "      <td>...</td>\n",
       "      <td>...</td>\n",
       "      <td>...</td>\n",
       "      <td>...</td>\n",
       "    </tr>\n",
       "    <tr>\n",
       "      <th>PROJEKTNO DELO</th>\n",
       "      <td>6.2 €/h neto</td>\n",
       "      <td>LJUBLJANA</td>\n",
       "      <td>DOPOLDAN</td>\n",
       "      <td>DLJE ČASA (ZAČ. IN OBČ. DELO), PO DOGOVORU</td>\n",
       "    </tr>\n",
       "    <tr>\n",
       "      <th>ADMINISTRATIVNA DELA</th>\n",
       "      <td>6.2 €/h neto</td>\n",
       "      <td>LJUBLJANA</td>\n",
       "      <td>DOPOLDAN</td>\n",
       "      <td>DLJE ČASA (ZAČ. IN OBČ. DELO)</td>\n",
       "    </tr>\n",
       "    <tr>\n",
       "      <th>DELO V LABORATORIJU</th>\n",
       "      <td>6.2 €/h neto</td>\n",
       "      <td>LJUBLJANA</td>\n",
       "      <td>DOPOLDAN</td>\n",
       "      <td>DLJE ČASA (ZAČ. IN OBČ. DELO)</td>\n",
       "    </tr>\n",
       "    <tr>\n",
       "      <th>LAŽJA FIZIČNA DELA</th>\n",
       "      <td>6.2 €/h neto</td>\n",
       "      <td>LJUBLJANA</td>\n",
       "      <td>PO DOGOVORU</td>\n",
       "      <td>DLJE ČASA (ZAČ. IN OBČ. DELO)</td>\n",
       "    </tr>\n",
       "    <tr>\n",
       "      <th>RAZVOZ</th>\n",
       "      <td>6.2 €/h neto</td>\n",
       "      <td>LJUBLJANA</td>\n",
       "      <td>IZMENSKO</td>\n",
       "      <td>DLJE ČASA (ZAČ. IN OBČ. DELO)</td>\n",
       "    </tr>\n",
       "  </tbody>\n",
       "</table>\n",
       "<p>695 rows × 4 columns</p>\n",
       "</div>"
      ],
      "text/plain": [
       "                          plača neto                   kraj     delovnik  \\\n",
       "delo                                                                       \n",
       "TRENER/KA              20.0 €/h neto              LJUBLJANA     POPOLDAN   \n",
       "TRENER/KA              20.0 €/h neto              LJUBLJANA     POPOLDAN   \n",
       "PRODAJA               15.27 €/h neto   LJUBLJANA IN OKOLICA     IZMENSKO   \n",
       "PROGRAMIRANJE         15.27 €/h neto  LJUBLJANA ALI OD DOMA  PO DOGOVORU   \n",
       "PROGRAMIRANJE         15.27 €/h neto              LJUBLJANA  PO DOGOVORU   \n",
       "...                              ...                    ...          ...   \n",
       "PROJEKTNO DELO          6.2 €/h neto              LJUBLJANA     DOPOLDAN   \n",
       "ADMINISTRATIVNA DELA    6.2 €/h neto              LJUBLJANA     DOPOLDAN   \n",
       "DELO V LABORATORIJU     6.2 €/h neto              LJUBLJANA     DOPOLDAN   \n",
       "LAŽJA FIZIČNA DELA      6.2 €/h neto              LJUBLJANA  PO DOGOVORU   \n",
       "RAZVOZ                  6.2 €/h neto              LJUBLJANA     IZMENSKO   \n",
       "\n",
       "                                                        trajanje  \n",
       "delo                                                              \n",
       "TRENER/KA                          DLJE ČASA (ZAČ. IN OBČ. DELO)  \n",
       "TRENER/KA                          DLJE ČASA (ZAČ. IN OBČ. DELO)  \n",
       "PRODAJA                            DLJE ČASA (ZAČ. IN OBČ. DELO)  \n",
       "PROGRAMIRANJE                      DLJE ČASA (ZAČ. IN OBČ. DELO)  \n",
       "PROGRAMIRANJE                      DLJE ČASA (ZAČ. IN OBČ. DELO)  \n",
       "...                                                          ...  \n",
       "PROJEKTNO DELO        DLJE ČASA (ZAČ. IN OBČ. DELO), PO DOGOVORU  \n",
       "ADMINISTRATIVNA DELA               DLJE ČASA (ZAČ. IN OBČ. DELO)  \n",
       "DELO V LABORATORIJU                DLJE ČASA (ZAČ. IN OBČ. DELO)  \n",
       "LAŽJA FIZIČNA DELA                 DLJE ČASA (ZAČ. IN OBČ. DELO)  \n",
       "RAZVOZ                             DLJE ČASA (ZAČ. IN OBČ. DELO)  \n",
       "\n",
       "[695 rows x 4 columns]"
      ]
     },
     "execution_count": 157,
     "metadata": {},
     "output_type": "execute_result"
    }
   ],
   "source": [
    "dela_v_Lj = podtabela[podtabela['kraj'].str.contains('Ljubljana', case=False, na=False)]\n",
    "dela_v_Lj"
   ]
  },
  {
   "cell_type": "markdown",
   "metadata": {},
   "source": [
    "Funkcija, ki vrne slovar, katerega ključi so števila možnih del glede na delovnik"
   ]
  },
  {
   "cell_type": "code",
   "execution_count": 158,
   "metadata": {},
   "outputs": [
    {
     "data": {
      "text/plain": [
       "{'Dopoldan': 257,\n",
       " 'Popoldan': 57,\n",
       " 'Po dogovoru': 184,\n",
       " 'Izmensko': 189,\n",
       " 'Ostalo': 8}"
      ]
     },
     "execution_count": 158,
     "metadata": {},
     "output_type": "execute_result"
    }
   ],
   "source": [
    "def šteje_dela_po_delovniku(dela_v_Lj):\n",
    "    preštevanje = {\n",
    "        'Dopoldan': int(dela_v_Lj['delovnik'].str.contains('DOPOLDAN').sum()),\n",
    "        'Popoldan': int(dela_v_Lj['delovnik'].str.contains('POPOLDAN').sum()),\n",
    "        'Po dogovoru': int(dela_v_Lj['delovnik'].str.contains('PO DOGOVORU').sum()),\n",
    "        'Izmensko': int(dela_v_Lj['delovnik'].str.contains('IZMENSKO').sum())\n",
    "    }\n",
    "    preštevanje['Ostalo'] = int(dela_v_Lj[~dela_v_Lj['delovnik'].str.contains('DOPOLDAN|POPOLDAN|PO DOGOVORU|IZMENSKO', case=False, na=False)].shape[0])\n",
    "    return preštevanje\n",
    "\n",
    "števila = šteje_dela_po_delovniku(dela_v_Lj)\n",
    "števila"
   ]
  },
  {
   "cell_type": "code",
   "execution_count": 159,
   "metadata": {},
   "outputs": [
    {
     "data": {
      "image/png": "[encoded data removed]",
      "text/plain": [
       "<Figure size 600x600 with 1 Axes>"
      ]
     },
     "metadata": {},
     "output_type": "display_data"
    }
   ],
   "source": [
    "čas_dela = list(števila.keys())\n",
    "število_del = list(števila.values())\n",
    "plt.figure(figsize=(6, 6))\n",
    "plt.pie(število_del, labels=čas_dela, autopct='%1.2f%%', startangle=140)\n",
    "plt.title('Razporeditev delovnih časov v Ljubljani')\n",
    "plt.show()"
   ]
  },
  {
   "cell_type": "markdown",
   "metadata": {},
   "source": [
    "Ločimo dela v Ljubljani glede na velikost plače"
   ]
  },
  {
   "cell_type": "code",
   "execution_count": 160,
   "metadata": {},
   "outputs": [
    {
     "data": {
      "text/html": [
       "<div>\n",
       "<style scoped>\n",
       "    .dataframe tbody tr th:only-of-type {\n",
       "        vertical-align: middle;\n",
       "    }\n",
       "\n",
       "    .dataframe tbody tr th {\n",
       "        vertical-align: top;\n",
       "    }\n",
       "\n",
       "    .dataframe thead th {\n",
       "        text-align: right;\n",
       "    }\n",
       "</style>\n",
       "<table border=\"1\" class=\"dataframe\">\n",
       "  <thead>\n",
       "    <tr style=\"text-align: right;\">\n",
       "      <th></th>\n",
       "      <th>plača neto</th>\n",
       "    </tr>\n",
       "    <tr>\n",
       "      <th>delo</th>\n",
       "      <th></th>\n",
       "    </tr>\n",
       "  </thead>\n",
       "  <tbody>\n",
       "    <tr>\n",
       "      <th>ADMINISTRATIVNA DELA</th>\n",
       "      <td>7.94 €/h neto</td>\n",
       "    </tr>\n",
       "    <tr>\n",
       "      <th>POMOČ V STREŽBI</th>\n",
       "      <td>7.85 €/h neto</td>\n",
       "    </tr>\n",
       "    <tr>\n",
       "      <th>DELO V KUHINJI</th>\n",
       "      <td>7.8 €/h neto</td>\n",
       "    </tr>\n",
       "    <tr>\n",
       "      <th>DELO V SKLADIŠČU</th>\n",
       "      <td>7.8 €/h neto</td>\n",
       "    </tr>\n",
       "    <tr>\n",
       "      <th>PROJEKTIRANJE</th>\n",
       "      <td>7.8 €/h neto</td>\n",
       "    </tr>\n",
       "    <tr>\n",
       "      <th>...</th>\n",
       "      <td>...</td>\n",
       "    </tr>\n",
       "    <tr>\n",
       "      <th>PROJEKTNO DELO</th>\n",
       "      <td>6.2 €/h neto</td>\n",
       "    </tr>\n",
       "    <tr>\n",
       "      <th>ADMINISTRATIVNA DELA</th>\n",
       "      <td>6.2 €/h neto</td>\n",
       "    </tr>\n",
       "    <tr>\n",
       "      <th>DELO V LABORATORIJU</th>\n",
       "      <td>6.2 €/h neto</td>\n",
       "    </tr>\n",
       "    <tr>\n",
       "      <th>LAŽJA FIZIČNA DELA</th>\n",
       "      <td>6.2 €/h neto</td>\n",
       "    </tr>\n",
       "    <tr>\n",
       "      <th>RAZVOZ</th>\n",
       "      <td>6.2 €/h neto</td>\n",
       "    </tr>\n",
       "  </tbody>\n",
       "</table>\n",
       "<p>415 rows × 1 columns</p>\n",
       "</div>"
      ],
      "text/plain": [
       "                         plača neto\n",
       "delo                               \n",
       "ADMINISTRATIVNA DELA  7.94 €/h neto\n",
       "POMOČ V STREŽBI       7.85 €/h neto\n",
       "DELO V KUHINJI         7.8 €/h neto\n",
       "DELO V SKLADIŠČU       7.8 €/h neto\n",
       "PROJEKTIRANJE          7.8 €/h neto\n",
       "...                             ...\n",
       "PROJEKTNO DELO         6.2 €/h neto\n",
       "ADMINISTRATIVNA DELA   6.2 €/h neto\n",
       "DELO V LABORATORIJU    6.2 €/h neto\n",
       "LAŽJA FIZIČNA DELA     6.2 €/h neto\n",
       "RAZVOZ                 6.2 €/h neto\n",
       "\n",
       "[415 rows x 1 columns]"
      ]
     },
     "execution_count": 160,
     "metadata": {},
     "output_type": "execute_result"
    }
   ],
   "source": [
    "plača_do_osem = dela_v_Lj[(dela_v_Lj['plača neto'] >= '6.2 €/h neto') & (dela_v_Lj['plača neto'] <= '7.99 €/h neto')]\n",
    "plača_do_osem[['plača neto']]"
   ]
  },
  {
   "cell_type": "code",
   "execution_count": 161,
   "metadata": {},
   "outputs": [
    {
     "data": {
      "text/plain": [
       "plača neto\n",
       "6.2 €/h neto     74\n",
       "6.24 €/h neto     3\n",
       "6.37 €/h neto     1\n",
       "6.41 €/h neto     1\n",
       "6.45 €/h neto    33\n",
       "                 ..\n",
       "7.7 €/h neto      2\n",
       "7.74 €/h neto    38\n",
       "7.8 €/h neto      3\n",
       "7.85 €/h neto     1\n",
       "7.94 €/h neto     1\n",
       "Length: 40, dtype: int64"
      ]
     },
     "execution_count": 161,
     "metadata": {},
     "output_type": "execute_result"
    }
   ],
   "source": [
    "do_osem = plača_do_osem.groupby('plača neto').size()\n",
    "do_osem"
   ]
  },
  {
   "cell_type": "code",
   "execution_count": 162,
   "metadata": {},
   "outputs": [
    {
     "data": {
      "text/plain": [
       "<Axes: xlabel='plača neto'>"
      ]
     },
     "execution_count": 162,
     "metadata": {},
     "output_type": "execute_result"
    },
    {
     "data": {
      "image/png": "[encoded data removed]",
      "text/plain": [
       "<Figure size 640x480 with 1 Axes>"
      ]
     },
     "metadata": {},
     "output_type": "display_data"
    }
   ],
   "source": [
    "do_osem.plot.bar()"
   ]
  },
  {
   "cell_type": "code",
   "execution_count": 163,
   "metadata": {},
   "outputs": [
    {
     "data": {
      "text/html": [
       "<div>\n",
       "<style scoped>\n",
       "    .dataframe tbody tr th:only-of-type {\n",
       "        vertical-align: middle;\n",
       "    }\n",
       "\n",
       "    .dataframe tbody tr th {\n",
       "        vertical-align: top;\n",
       "    }\n",
       "\n",
       "    .dataframe thead th {\n",
       "        text-align: right;\n",
       "    }\n",
       "</style>\n",
       "<table border=\"1\" class=\"dataframe\">\n",
       "  <thead>\n",
       "    <tr style=\"text-align: right;\">\n",
       "      <th></th>\n",
       "      <th>plača neto</th>\n",
       "    </tr>\n",
       "    <tr>\n",
       "      <th>delo</th>\n",
       "      <th></th>\n",
       "    </tr>\n",
       "  </thead>\n",
       "  <tbody>\n",
       "    <tr>\n",
       "      <th>STREŽBA</th>\n",
       "      <td>9.98 €/h neto</td>\n",
       "    </tr>\n",
       "    <tr>\n",
       "      <th>STROJNIŠKA DELA</th>\n",
       "      <td>9.9 €/h neto</td>\n",
       "    </tr>\n",
       "    <tr>\n",
       "      <th>INFORMATIKA</th>\n",
       "      <td>9.9 €/h neto</td>\n",
       "    </tr>\n",
       "    <tr>\n",
       "      <th>STREŽBA</th>\n",
       "      <td>9.5 €/h neto</td>\n",
       "    </tr>\n",
       "    <tr>\n",
       "      <th>DELO V KUHINJI</th>\n",
       "      <td>9.5 €/h neto</td>\n",
       "    </tr>\n",
       "    <tr>\n",
       "      <th>...</th>\n",
       "      <td>...</td>\n",
       "    </tr>\n",
       "    <tr>\n",
       "      <th>ZDRAVSTVENA NEGA</th>\n",
       "      <td>8.0 €/h neto</td>\n",
       "    </tr>\n",
       "    <tr>\n",
       "      <th>STREŽBA HRANE IN PIJAČE</th>\n",
       "      <td>8.0 €/h neto</td>\n",
       "    </tr>\n",
       "    <tr>\n",
       "      <th>POMOČ V KUHINJI</th>\n",
       "      <td>8.0 €/h neto</td>\n",
       "    </tr>\n",
       "    <tr>\n",
       "      <th>PRODAJA</th>\n",
       "      <td>8.0 €/h neto</td>\n",
       "    </tr>\n",
       "    <tr>\n",
       "      <th>PRODAJA</th>\n",
       "      <td>8.0 €/h neto</td>\n",
       "    </tr>\n",
       "  </tbody>\n",
       "</table>\n",
       "<p>218 rows × 1 columns</p>\n",
       "</div>"
      ],
      "text/plain": [
       "                            plača neto\n",
       "delo                                  \n",
       "STREŽBA                  9.98 €/h neto\n",
       "STROJNIŠKA DELA           9.9 €/h neto\n",
       "INFORMATIKA               9.9 €/h neto\n",
       "STREŽBA                   9.5 €/h neto\n",
       "DELO V KUHINJI            9.5 €/h neto\n",
       "...                                ...\n",
       "ZDRAVSTVENA NEGA          8.0 €/h neto\n",
       "STREŽBA HRANE IN PIJAČE   8.0 €/h neto\n",
       "POMOČ V KUHINJI           8.0 €/h neto\n",
       "PRODAJA                   8.0 €/h neto\n",
       "PRODAJA                   8.0 €/h neto\n",
       "\n",
       "[218 rows x 1 columns]"
      ]
     },
     "execution_count": 163,
     "metadata": {},
     "output_type": "execute_result"
    }
   ],
   "source": [
    "plača_do_osem_do_deset = dela_v_Lj[(dela_v_Lj['plača neto'] > '7.99 €/h neto') & (dela_v_Lj['plača neto'] <= '9.99 €/h neto')]\n",
    "plača_do_osem_do_deset[['plača neto']]"
   ]
  },
  {
   "cell_type": "code",
   "execution_count": 164,
   "metadata": {},
   "outputs": [
    {
     "data": {
      "text/plain": [
       "plača neto\n",
       "8.0 €/h neto     81\n",
       "8.05 €/h neto     2\n",
       "8.09 €/h neto     1\n",
       "8.15 €/h neto     5\n",
       "8.17 €/h neto     6\n",
       "                 ..\n",
       "9.3 €/h neto      6\n",
       "9.47 €/h neto     7\n",
       "9.5 €/h neto      3\n",
       "9.9 €/h neto      2\n",
       "9.98 €/h neto     1\n",
       "Length: 27, dtype: int64"
      ]
     },
     "execution_count": 164,
     "metadata": {},
     "output_type": "execute_result"
    }
   ],
   "source": [
    "filter1 = plača_do_osem_do_deset.groupby('plača neto').size()\n",
    "filter1"
   ]
  },
  {
   "cell_type": "code",
   "execution_count": 165,
   "metadata": {},
   "outputs": [
    {
     "data": {
      "text/plain": [
       "<Axes: xlabel='plača neto'>"
      ]
     },
     "execution_count": 165,
     "metadata": {},
     "output_type": "execute_result"
    },
    {
     "data": {
      "image/png": "[encoded data removed]",
      "text/plain": [
       "<Figure size 640x480 with 1 Axes>"
      ]
     },
     "metadata": {},
     "output_type": "display_data"
    }
   ],
   "source": [
    "filter1.plot.bar()"
   ]
  },
  {
   "cell_type": "code",
   "execution_count": 166,
   "metadata": {},
   "outputs": [
    {
     "data": {
      "text/html": [
       "<div>\n",
       "<style scoped>\n",
       "    .dataframe tbody tr th:only-of-type {\n",
       "        vertical-align: middle;\n",
       "    }\n",
       "\n",
       "    .dataframe tbody tr th {\n",
       "        vertical-align: top;\n",
       "    }\n",
       "\n",
       "    .dataframe thead th {\n",
       "        text-align: right;\n",
       "    }\n",
       "</style>\n",
       "<table border=\"1\" class=\"dataframe\">\n",
       "  <thead>\n",
       "    <tr style=\"text-align: right;\">\n",
       "      <th></th>\n",
       "      <th>plača neto</th>\n",
       "    </tr>\n",
       "    <tr>\n",
       "      <th>delo</th>\n",
       "      <th></th>\n",
       "    </tr>\n",
       "  </thead>\n",
       "  <tbody>\n",
       "    <tr>\n",
       "      <th>TRENER/KA</th>\n",
       "      <td>20.0 €/h neto</td>\n",
       "    </tr>\n",
       "    <tr>\n",
       "      <th>TRENER/KA</th>\n",
       "      <td>20.0 €/h neto</td>\n",
       "    </tr>\n",
       "    <tr>\n",
       "      <th>PRODAJA</th>\n",
       "      <td>15.27 €/h neto</td>\n",
       "    </tr>\n",
       "    <tr>\n",
       "      <th>PROGRAMIRANJE</th>\n",
       "      <td>15.27 €/h neto</td>\n",
       "    </tr>\n",
       "    <tr>\n",
       "      <th>PROGRAMIRANJE</th>\n",
       "      <td>15.27 €/h neto</td>\n",
       "    </tr>\n",
       "    <tr>\n",
       "      <th>...</th>\n",
       "      <td>...</td>\n",
       "    </tr>\n",
       "    <tr>\n",
       "      <th>POUČEVANJE</th>\n",
       "      <td>10.62 €/h neto</td>\n",
       "    </tr>\n",
       "    <tr>\n",
       "      <th>PROGRAMIRANJE</th>\n",
       "      <td>10.5 €/h neto</td>\n",
       "    </tr>\n",
       "    <tr>\n",
       "      <th>STREŽBA HRANE IN PIJAČE</th>\n",
       "      <td>10.33 €/h neto</td>\n",
       "    </tr>\n",
       "    <tr>\n",
       "      <th>VADITELJ/ICA</th>\n",
       "      <td>10.18 €/h neto</td>\n",
       "    </tr>\n",
       "    <tr>\n",
       "      <th>KINEZIOLOG/INJA</th>\n",
       "      <td>10.15 €/h neto</td>\n",
       "    </tr>\n",
       "  </tbody>\n",
       "</table>\n",
       "<p>44 rows × 1 columns</p>\n",
       "</div>"
      ],
      "text/plain": [
       "                             plača neto\n",
       "delo                                   \n",
       "TRENER/KA                 20.0 €/h neto\n",
       "TRENER/KA                 20.0 €/h neto\n",
       "PRODAJA                  15.27 €/h neto\n",
       "PROGRAMIRANJE            15.27 €/h neto\n",
       "PROGRAMIRANJE            15.27 €/h neto\n",
       "...                                 ...\n",
       "POUČEVANJE               10.62 €/h neto\n",
       "PROGRAMIRANJE             10.5 €/h neto\n",
       "STREŽBA HRANE IN PIJAČE  10.33 €/h neto\n",
       "VADITELJ/ICA             10.18 €/h neto\n",
       "KINEZIOLOG/INJA          10.15 €/h neto\n",
       "\n",
       "[44 rows x 1 columns]"
      ]
     },
     "execution_count": 166,
     "metadata": {},
     "output_type": "execute_result"
    }
   ],
   "source": [
    "plača_nad_deset = dela_v_Lj[(dela_v_Lj['plača neto'] > '10.00 €/h neto') & (dela_v_Lj['plača neto'] < '50.0 €/h neto')]\n",
    "plača_nad_deset[['plača neto']]"
   ]
  },
  {
   "cell_type": "code",
   "execution_count": 167,
   "metadata": {},
   "outputs": [
    {
     "data": {
      "text/plain": [
       "plača neto\n",
       "10.15 €/h neto    1\n",
       "10.18 €/h neto    1\n",
       "10.33 €/h neto    1\n",
       "10.5 €/h neto     1\n",
       "10.62 €/h neto    1\n",
       "                 ..\n",
       "13.77 €/h neto    4\n",
       "14.0 €/h neto     1\n",
       "15.0 €/h neto     7\n",
       "15.27 €/h neto    3\n",
       "20.0 €/h neto     2\n",
       "Length: 17, dtype: int64"
      ]
     },
     "execution_count": 167,
     "metadata": {},
     "output_type": "execute_result"
    }
   ],
   "source": [
    "filter2 = plača_nad_deset.groupby('plača neto').size()\n",
    "filter2"
   ]
  },
  {
   "cell_type": "code",
   "execution_count": 168,
   "metadata": {},
   "outputs": [
    {
     "data": {
      "text/plain": [
       "<Axes: xlabel='plača neto'>"
      ]
     },
     "execution_count": 168,
     "metadata": {},
     "output_type": "execute_result"
    },
    {
     "data": {
      "image/png": "[encoded data removed]",
      "text/plain": [
       "<Figure size 640x480 with 1 Axes>"
      ]
     },
     "metadata": {},
     "output_type": "display_data"
    }
   ],
   "source": [
    "filter2.plot.bar()"
   ]
  },
  {
   "cell_type": "markdown",
   "metadata": {},
   "source": [
    "# Dela izven Ljubljane"
   ]
  },
  {
   "cell_type": "code",
   "execution_count": 169,
   "metadata": {},
   "outputs": [
    {
     "data": {
      "text/html": [
       "<div>\n",
       "<style scoped>\n",
       "    .dataframe tbody tr th:only-of-type {\n",
       "        vertical-align: middle;\n",
       "    }\n",
       "\n",
       "    .dataframe tbody tr th {\n",
       "        vertical-align: top;\n",
       "    }\n",
       "\n",
       "    .dataframe thead th {\n",
       "        text-align: right;\n",
       "    }\n",
       "</style>\n",
       "<table border=\"1\" class=\"dataframe\">\n",
       "  <thead>\n",
       "    <tr style=\"text-align: right;\">\n",
       "      <th></th>\n",
       "      <th>plača neto</th>\n",
       "      <th>kraj</th>\n",
       "      <th>delovnik</th>\n",
       "      <th>trajanje</th>\n",
       "    </tr>\n",
       "    <tr>\n",
       "      <th>delo</th>\n",
       "      <th></th>\n",
       "      <th></th>\n",
       "      <th></th>\n",
       "      <th></th>\n",
       "    </tr>\n",
       "  </thead>\n",
       "  <tbody>\n",
       "    <tr>\n",
       "      <th>POMOČ V KUHINJI</th>\n",
       "      <td>9.00 €/h neto</td>\n",
       "      <td>GOLNIK</td>\n",
       "      <td>PO DOGOVORU</td>\n",
       "      <td>PO DOGOVORU</td>\n",
       "    </tr>\n",
       "    <tr>\n",
       "      <th>DELO V RENT A CAR AGENCIJI</th>\n",
       "      <td>6.88 €/h neto</td>\n",
       "      <td>CELJE IN OKOLICA</td>\n",
       "      <td>PO DOGOVORU</td>\n",
       "      <td>DLJE ČASA (ZAČ. IN OBČ. DELO)</td>\n",
       "    </tr>\n",
       "    <tr>\n",
       "      <th>DELO V SKLADIŠČU</th>\n",
       "      <td>7.22 €/h neto</td>\n",
       "      <td>MARIBOR</td>\n",
       "      <td>DOPOLDAN</td>\n",
       "      <td>DLJE ČASA (ZAČ. IN OBČ. DELO)</td>\n",
       "    </tr>\n",
       "    <tr>\n",
       "      <th>POMOČ PRI PRODAJI</th>\n",
       "      <td>6.88 €/h neto</td>\n",
       "      <td>LESCE</td>\n",
       "      <td>PO DOGOVORU</td>\n",
       "      <td>DLJE ČASA (ZAČ. IN OBČ. DELO)</td>\n",
       "    </tr>\n",
       "    <tr>\n",
       "      <th>UREJANJE OKOLICE</th>\n",
       "      <td>7.74 €/h neto</td>\n",
       "      <td>MARIBOR</td>\n",
       "      <td>DOPOLDAN</td>\n",
       "      <td>DLJE ČASA (ZAČ. IN OBČ. DELO)</td>\n",
       "    </tr>\n",
       "    <tr>\n",
       "      <th>...</th>\n",
       "      <td>...</td>\n",
       "      <td>...</td>\n",
       "      <td>...</td>\n",
       "      <td>...</td>\n",
       "    </tr>\n",
       "    <tr>\n",
       "      <th>POMOČ V TRGOVINI</th>\n",
       "      <td>6.88 €/h neto</td>\n",
       "      <td>TRBOVLJE</td>\n",
       "      <td>IZMENSKO</td>\n",
       "      <td>DLJE ČASA (ZAČ. IN OBČ. DELO)</td>\n",
       "    </tr>\n",
       "    <tr>\n",
       "      <th>POMOČ V TRGOVINI</th>\n",
       "      <td>6.88 €/h neto</td>\n",
       "      <td>BLED</td>\n",
       "      <td>IZMENSKO</td>\n",
       "      <td>DLJE ČASA (ZAČ. IN OBČ. DELO)</td>\n",
       "    </tr>\n",
       "    <tr>\n",
       "      <th>PRODAJA</th>\n",
       "      <td>9.47 €/h neto</td>\n",
       "      <td>BLED</td>\n",
       "      <td>IZMENSKO</td>\n",
       "      <td>DLJE ČASA (ZAČ. IN OBČ. DELO)</td>\n",
       "    </tr>\n",
       "    <tr>\n",
       "      <th>TEHNIČNA POMOČ</th>\n",
       "      <td>PO DOGOVORU</td>\n",
       "      <td>MARIBOR</td>\n",
       "      <td>DOPOLDAN</td>\n",
       "      <td>DLJE ČASA (ZAČ. IN OBČ. DELO)</td>\n",
       "    </tr>\n",
       "    <tr>\n",
       "      <th>DELO V PROIZVODNJI</th>\n",
       "      <td>6.20 €/h neto</td>\n",
       "      <td>LJUBEČNA</td>\n",
       "      <td>IZMENSKO</td>\n",
       "      <td>POČITNIŠKO DELO</td>\n",
       "    </tr>\n",
       "  </tbody>\n",
       "</table>\n",
       "<p>1283 rows × 4 columns</p>\n",
       "</div>"
      ],
      "text/plain": [
       "                               plača neto              kraj     delovnik  \\\n",
       "delo                                                                       \n",
       "POMOČ V KUHINJI             9.00 €/h neto            GOLNIK  PO DOGOVORU   \n",
       "DELO V RENT A CAR AGENCIJI  6.88 €/h neto  CELJE IN OKOLICA  PO DOGOVORU   \n",
       "DELO V SKLADIŠČU            7.22 €/h neto           MARIBOR     DOPOLDAN   \n",
       "POMOČ PRI PRODAJI           6.88 €/h neto             LESCE  PO DOGOVORU   \n",
       "UREJANJE OKOLICE            7.74 €/h neto           MARIBOR     DOPOLDAN   \n",
       "...                                   ...               ...          ...   \n",
       "POMOČ V TRGOVINI            6.88 €/h neto          TRBOVLJE     IZMENSKO   \n",
       "POMOČ V TRGOVINI            6.88 €/h neto              BLED     IZMENSKO   \n",
       "PRODAJA                     9.47 €/h neto              BLED     IZMENSKO   \n",
       "TEHNIČNA POMOČ                PO DOGOVORU           MARIBOR     DOPOLDAN   \n",
       "DELO V PROIZVODNJI          6.20 €/h neto          LJUBEČNA     IZMENSKO   \n",
       "\n",
       "                                                 trajanje  \n",
       "delo                                                       \n",
       "POMOČ V KUHINJI                               PO DOGOVORU  \n",
       "DELO V RENT A CAR AGENCIJI  DLJE ČASA (ZAČ. IN OBČ. DELO)  \n",
       "DELO V SKLADIŠČU            DLJE ČASA (ZAČ. IN OBČ. DELO)  \n",
       "POMOČ PRI PRODAJI           DLJE ČASA (ZAČ. IN OBČ. DELO)  \n",
       "UREJANJE OKOLICE            DLJE ČASA (ZAČ. IN OBČ. DELO)  \n",
       "...                                                   ...  \n",
       "POMOČ V TRGOVINI            DLJE ČASA (ZAČ. IN OBČ. DELO)  \n",
       "POMOČ V TRGOVINI            DLJE ČASA (ZAČ. IN OBČ. DELO)  \n",
       "PRODAJA                     DLJE ČASA (ZAČ. IN OBČ. DELO)  \n",
       "TEHNIČNA POMOČ              DLJE ČASA (ZAČ. IN OBČ. DELO)  \n",
       "DELO V PROIZVODNJI                        POČITNIŠKO DELO  \n",
       "\n",
       "[1283 rows x 4 columns]"
      ]
     },
     "execution_count": 169,
     "metadata": {},
     "output_type": "execute_result"
    }
   ],
   "source": [
    "ne_v_Lj = DELA[~DELA['kraj'].str.contains('Ljubljana', case= False)]\n",
    "ne_v_Lj"
   ]
  }
 ],
 "metadata": {
  "kernelspec": {
   "display_name": "Python 3",
   "language": "python",
   "name": "python3"
  },
  "language_info": {
   "codemirror_mode": {
    "name": "ipython",
    "version": 3
   },
   "file_extension": ".py",
   "mimetype": "text/x-python",
   "name": "python",
   "nbconvert_exporter": "python",
   "pygments_lexer": "ipython3",
   "version": "3.11.9"
  },
  "polyglot_notebook": {
   "kernelInfo": {
    "defaultKernelName": "csharp",
    "items": [
     {
      "aliases": [],
      "name": "csharp"
     }
    ]
   }
  }
 },
 "nbformat": 4,
 "nbformat_minor": 2
}
